{
  "cells": [
    {
      "cell_type": "markdown",
      "metadata": {
        "id": "Xt2yrZlci6HR"
      },
      "source": [
        "#**Classification of Autism Children**"
      ]
    },
    {
      "cell_type": "markdown",
      "metadata": {
        "id": "HCk5wJYyjSvj"
      },
      "source": [
        "##Libraries"
      ]
    },
    {
      "cell_type": "code",
      "execution_count": null,
      "metadata": {
        "id": "8YCi2JLOPpm3"
      },
      "outputs": [],
      "source": [
        "import pandas as pd\n",
        "import urllib.request\n",
        "import numpy as np\n",
        "import matplotlib.pyplot as plt\n",
        "from sklearn.model_selection import train_test_split\n",
        "from sklearn.preprocessing import LabelEncoder\n",
        "import seaborn as sns\n",
        "from sklearn.metrics import accuracy_score, precision_score, recall_score, f1_score, confusion_matrix"
      ]
    },
    {
      "cell_type": "markdown",
      "metadata": {
        "id": "nUBDMSkJjbCT"
      },
      "source": [
        "##Datasets"
      ]
    },
    {
      "cell_type": "markdown",
      "metadata": {
        "id": "a8zEc6RAjdhO"
      },
      "source": [
        "Source : [https://archive.ics.uci.edu/dataset/419/autistic+spectrum+disorder+screening+data+for+children](https://archive.ics.uci.edu/dataset/419/autistic+spectrum+disorder+screening+data+for+children)"
      ]
    },
    {
      "cell_type": "code",
      "execution_count": null,
      "metadata": {
        "colab": {
          "base_uri": "https://localhost:8080/",
          "height": 236
        },
        "id": "0saWCA4pVEer",
        "outputId": "8d0dbf7e-fdd2-458c-9758-57ac9e7ecdb6"
      },
      "outputs": [
        {
          "output_type": "execute_result",
          "data": {
            "text/plain": [
              "   id  A1_Score  A2_Score  A3_Score  A4_Score  A5_Score  A6_Score  A7_Score  \\\n",
              "0   1         1         1         0         0         1         1         0   \n",
              "1   2         1         1         0         0         1         1         0   \n",
              "2   3         1         1         0         0         0         1         1   \n",
              "3   4         0         1         0         0         1         1         0   \n",
              "4   5         1         1         1         1         1         1         1   \n",
              "\n",
              "   A8_Score  A9_Score  ...  gender        ethnicity jundice austim  \\\n",
              "0         1         0  ...       m           Others      no     no   \n",
              "1         1         0  ...       m  Middle Eastern       no     no   \n",
              "2         1         0  ...       m                ?      no     no   \n",
              "3         0         0  ...       f                ?     yes     no   \n",
              "4         1         1  ...       m           Others     yes     no   \n",
              "\n",
              "   contry_of_res used_app_before result    age_desc  relation Class/ASD  \n",
              "0         Jordan              no      5  4-11 years    Parent        NO  \n",
              "1         Jordan              no      5  4-11 years    Parent        NO  \n",
              "2         Jordan             yes      5  4-11 years         ?        NO  \n",
              "3         Jordan              no      4  4-11 years         ?        NO  \n",
              "4  United States              no     10  4-11 years    Parent       YES  \n",
              "\n",
              "[5 rows x 22 columns]"
            ],
            "text/html": [
              "\n",
              "  <div id=\"df-6085635e-62ed-48a8-b71c-03907b5c1927\">\n",
              "    <div class=\"colab-df-container\">\n",
              "      <div>\n",
              "<style scoped>\n",
              "    .dataframe tbody tr th:only-of-type {\n",
              "        vertical-align: middle;\n",
              "    }\n",
              "\n",
              "    .dataframe tbody tr th {\n",
              "        vertical-align: top;\n",
              "    }\n",
              "\n",
              "    .dataframe thead th {\n",
              "        text-align: right;\n",
              "    }\n",
              "</style>\n",
              "<table border=\"1\" class=\"dataframe\">\n",
              "  <thead>\n",
              "    <tr style=\"text-align: right;\">\n",
              "      <th></th>\n",
              "      <th>id</th>\n",
              "      <th>A1_Score</th>\n",
              "      <th>A2_Score</th>\n",
              "      <th>A3_Score</th>\n",
              "      <th>A4_Score</th>\n",
              "      <th>A5_Score</th>\n",
              "      <th>A6_Score</th>\n",
              "      <th>A7_Score</th>\n",
              "      <th>A8_Score</th>\n",
              "      <th>A9_Score</th>\n",
              "      <th>...</th>\n",
              "      <th>gender</th>\n",
              "      <th>ethnicity</th>\n",
              "      <th>jundice</th>\n",
              "      <th>austim</th>\n",
              "      <th>contry_of_res</th>\n",
              "      <th>used_app_before</th>\n",
              "      <th>result</th>\n",
              "      <th>age_desc</th>\n",
              "      <th>relation</th>\n",
              "      <th>Class/ASD</th>\n",
              "    </tr>\n",
              "  </thead>\n",
              "  <tbody>\n",
              "    <tr>\n",
              "      <th>0</th>\n",
              "      <td>1</td>\n",
              "      <td>1</td>\n",
              "      <td>1</td>\n",
              "      <td>0</td>\n",
              "      <td>0</td>\n",
              "      <td>1</td>\n",
              "      <td>1</td>\n",
              "      <td>0</td>\n",
              "      <td>1</td>\n",
              "      <td>0</td>\n",
              "      <td>...</td>\n",
              "      <td>m</td>\n",
              "      <td>Others</td>\n",
              "      <td>no</td>\n",
              "      <td>no</td>\n",
              "      <td>Jordan</td>\n",
              "      <td>no</td>\n",
              "      <td>5</td>\n",
              "      <td>4-11 years</td>\n",
              "      <td>Parent</td>\n",
              "      <td>NO</td>\n",
              "    </tr>\n",
              "    <tr>\n",
              "      <th>1</th>\n",
              "      <td>2</td>\n",
              "      <td>1</td>\n",
              "      <td>1</td>\n",
              "      <td>0</td>\n",
              "      <td>0</td>\n",
              "      <td>1</td>\n",
              "      <td>1</td>\n",
              "      <td>0</td>\n",
              "      <td>1</td>\n",
              "      <td>0</td>\n",
              "      <td>...</td>\n",
              "      <td>m</td>\n",
              "      <td>Middle Eastern</td>\n",
              "      <td>no</td>\n",
              "      <td>no</td>\n",
              "      <td>Jordan</td>\n",
              "      <td>no</td>\n",
              "      <td>5</td>\n",
              "      <td>4-11 years</td>\n",
              "      <td>Parent</td>\n",
              "      <td>NO</td>\n",
              "    </tr>\n",
              "    <tr>\n",
              "      <th>2</th>\n",
              "      <td>3</td>\n",
              "      <td>1</td>\n",
              "      <td>1</td>\n",
              "      <td>0</td>\n",
              "      <td>0</td>\n",
              "      <td>0</td>\n",
              "      <td>1</td>\n",
              "      <td>1</td>\n",
              "      <td>1</td>\n",
              "      <td>0</td>\n",
              "      <td>...</td>\n",
              "      <td>m</td>\n",
              "      <td>?</td>\n",
              "      <td>no</td>\n",
              "      <td>no</td>\n",
              "      <td>Jordan</td>\n",
              "      <td>yes</td>\n",
              "      <td>5</td>\n",
              "      <td>4-11 years</td>\n",
              "      <td>?</td>\n",
              "      <td>NO</td>\n",
              "    </tr>\n",
              "    <tr>\n",
              "      <th>3</th>\n",
              "      <td>4</td>\n",
              "      <td>0</td>\n",
              "      <td>1</td>\n",
              "      <td>0</td>\n",
              "      <td>0</td>\n",
              "      <td>1</td>\n",
              "      <td>1</td>\n",
              "      <td>0</td>\n",
              "      <td>0</td>\n",
              "      <td>0</td>\n",
              "      <td>...</td>\n",
              "      <td>f</td>\n",
              "      <td>?</td>\n",
              "      <td>yes</td>\n",
              "      <td>no</td>\n",
              "      <td>Jordan</td>\n",
              "      <td>no</td>\n",
              "      <td>4</td>\n",
              "      <td>4-11 years</td>\n",
              "      <td>?</td>\n",
              "      <td>NO</td>\n",
              "    </tr>\n",
              "    <tr>\n",
              "      <th>4</th>\n",
              "      <td>5</td>\n",
              "      <td>1</td>\n",
              "      <td>1</td>\n",
              "      <td>1</td>\n",
              "      <td>1</td>\n",
              "      <td>1</td>\n",
              "      <td>1</td>\n",
              "      <td>1</td>\n",
              "      <td>1</td>\n",
              "      <td>1</td>\n",
              "      <td>...</td>\n",
              "      <td>m</td>\n",
              "      <td>Others</td>\n",
              "      <td>yes</td>\n",
              "      <td>no</td>\n",
              "      <td>United States</td>\n",
              "      <td>no</td>\n",
              "      <td>10</td>\n",
              "      <td>4-11 years</td>\n",
              "      <td>Parent</td>\n",
              "      <td>YES</td>\n",
              "    </tr>\n",
              "  </tbody>\n",
              "</table>\n",
              "<p>5 rows × 22 columns</p>\n",
              "</div>\n",
              "      <button class=\"colab-df-convert\" onclick=\"convertToInteractive('df-6085635e-62ed-48a8-b71c-03907b5c1927')\"\n",
              "              title=\"Convert this dataframe to an interactive table.\"\n",
              "              style=\"display:none;\">\n",
              "        \n",
              "  <svg xmlns=\"http://www.w3.org/2000/svg\" height=\"24px\"viewBox=\"0 0 24 24\"\n",
              "       width=\"24px\">\n",
              "    <path d=\"M0 0h24v24H0V0z\" fill=\"none\"/>\n",
              "    <path d=\"M18.56 5.44l.94 2.06.94-2.06 2.06-.94-2.06-.94-.94-2.06-.94 2.06-2.06.94zm-11 1L8.5 8.5l.94-2.06 2.06-.94-2.06-.94L8.5 2.5l-.94 2.06-2.06.94zm10 10l.94 2.06.94-2.06 2.06-.94-2.06-.94-.94-2.06-.94 2.06-2.06.94z\"/><path d=\"M17.41 7.96l-1.37-1.37c-.4-.4-.92-.59-1.43-.59-.52 0-1.04.2-1.43.59L10.3 9.45l-7.72 7.72c-.78.78-.78 2.05 0 2.83L4 21.41c.39.39.9.59 1.41.59.51 0 1.02-.2 1.41-.59l7.78-7.78 2.81-2.81c.8-.78.8-2.07 0-2.86zM5.41 20L4 18.59l7.72-7.72 1.47 1.35L5.41 20z\"/>\n",
              "  </svg>\n",
              "      </button>\n",
              "      \n",
              "  <style>\n",
              "    .colab-df-container {\n",
              "      display:flex;\n",
              "      flex-wrap:wrap;\n",
              "      gap: 12px;\n",
              "    }\n",
              "\n",
              "    .colab-df-convert {\n",
              "      background-color: #E8F0FE;\n",
              "      border: none;\n",
              "      border-radius: 50%;\n",
              "      cursor: pointer;\n",
              "      display: none;\n",
              "      fill: #1967D2;\n",
              "      height: 32px;\n",
              "      padding: 0 0 0 0;\n",
              "      width: 32px;\n",
              "    }\n",
              "\n",
              "    .colab-df-convert:hover {\n",
              "      background-color: #E2EBFA;\n",
              "      box-shadow: 0px 1px 2px rgba(60, 64, 67, 0.3), 0px 1px 3px 1px rgba(60, 64, 67, 0.15);\n",
              "      fill: #174EA6;\n",
              "    }\n",
              "\n",
              "    [theme=dark] .colab-df-convert {\n",
              "      background-color: #3B4455;\n",
              "      fill: #D2E3FC;\n",
              "    }\n",
              "\n",
              "    [theme=dark] .colab-df-convert:hover {\n",
              "      background-color: #434B5C;\n",
              "      box-shadow: 0px 1px 3px 1px rgba(0, 0, 0, 0.15);\n",
              "      filter: drop-shadow(0px 1px 2px rgba(0, 0, 0, 0.3));\n",
              "      fill: #FFFFFF;\n",
              "    }\n",
              "  </style>\n",
              "\n",
              "      <script>\n",
              "        const buttonEl =\n",
              "          document.querySelector('#df-6085635e-62ed-48a8-b71c-03907b5c1927 button.colab-df-convert');\n",
              "        buttonEl.style.display =\n",
              "          google.colab.kernel.accessAllowed ? 'block' : 'none';\n",
              "\n",
              "        async function convertToInteractive(key) {\n",
              "          const element = document.querySelector('#df-6085635e-62ed-48a8-b71c-03907b5c1927');\n",
              "          const dataTable =\n",
              "            await google.colab.kernel.invokeFunction('convertToInteractive',\n",
              "                                                     [key], {});\n",
              "          if (!dataTable) return;\n",
              "\n",
              "          const docLinkHtml = 'Like what you see? Visit the ' +\n",
              "            '<a target=\"_blank\" href=https://colab.research.google.com/notebooks/data_table.ipynb>data table notebook</a>'\n",
              "            + ' to learn more about interactive tables.';\n",
              "          element.innerHTML = '';\n",
              "          dataTable['output_type'] = 'display_data';\n",
              "          await google.colab.output.renderOutput(dataTable, element);\n",
              "          const docLink = document.createElement('div');\n",
              "          docLink.innerHTML = docLinkHtml;\n",
              "          element.appendChild(docLink);\n",
              "        }\n",
              "      </script>\n",
              "    </div>\n",
              "  </div>\n",
              "  "
            ]
          },
          "metadata": {},
          "execution_count": 2
        }
      ],
      "source": [
        "url = \"https://raw.githubusercontent.com/cakkamidi/children-autism-classification/main/csv_result-Autism-Child-Data.csv\"\n",
        "df = pd.read_csv(url)\n",
        "df.describe()\n",
        "df.head()"
      ]
    },
    {
      "cell_type": "code",
      "execution_count": null,
      "metadata": {
        "colab": {
          "base_uri": "https://localhost:8080/"
        },
        "id": "WeOb8cFZhCj-",
        "outputId": "60afe641-a48a-468e-9083-539cec9fdf39"
      },
      "outputs": [
        {
          "output_type": "execute_result",
          "data": {
            "text/plain": [
              "id                  0\n",
              "A1_Score            0\n",
              "A2_Score            0\n",
              "A3_Score            0\n",
              "A4_Score            0\n",
              "A5_Score            0\n",
              "A6_Score            0\n",
              "A7_Score            0\n",
              "A8_Score            0\n",
              "A9_Score            0\n",
              "A10_Score           0\n",
              "age                 4\n",
              "gender              0\n",
              "ethnicity          43\n",
              "jundice             0\n",
              "austim              0\n",
              "contry_of_res       0\n",
              "used_app_before     0\n",
              "result              0\n",
              "age_desc            0\n",
              "relation           43\n",
              "Class/ASD           0\n",
              "dtype: int64"
            ]
          },
          "metadata": {},
          "execution_count": 3
        }
      ],
      "source": [
        "df_is_nan = df.isin(['?']).sum()\n",
        "\n",
        "df_is_nan"
      ]
    },
    {
      "cell_type": "code",
      "execution_count": null,
      "metadata": {
        "colab": {
          "base_uri": "https://localhost:8080/",
          "height": 236
        },
        "id": "siSiFmOOh5Eb",
        "outputId": "e095fba5-f3f4-424f-d0bd-79460cd4251b"
      },
      "outputs": [
        {
          "output_type": "execute_result",
          "data": {
            "text/plain": [
              "   id  A1_Score  A2_Score  A3_Score  A4_Score  A5_Score  A6_Score  A7_Score  \\\n",
              "0   1         1         1         0         0         1         1         0   \n",
              "1   2         1         1         0         0         1         1         0   \n",
              "2   3         1         1         0         0         0         1         1   \n",
              "3   4         0         1         0         0         1         1         0   \n",
              "4   5         1         1         1         1         1         1         1   \n",
              "\n",
              "   A8_Score  A9_Score  ...  gender        ethnicity jundice austim  \\\n",
              "0         1         0  ...       m           Others      no     no   \n",
              "1         1         0  ...       m  Middle Eastern       no     no   \n",
              "2         1         0  ...       m              NaN      no     no   \n",
              "3         0         0  ...       f              NaN     yes     no   \n",
              "4         1         1  ...       m           Others     yes     no   \n",
              "\n",
              "   contry_of_res used_app_before result    age_desc  relation Class/ASD  \n",
              "0         Jordan              no      5  4-11 years    Parent        NO  \n",
              "1         Jordan              no      5  4-11 years    Parent        NO  \n",
              "2         Jordan             yes      5  4-11 years       NaN        NO  \n",
              "3         Jordan              no      4  4-11 years       NaN        NO  \n",
              "4  United States              no     10  4-11 years    Parent       YES  \n",
              "\n",
              "[5 rows x 22 columns]"
            ],
            "text/html": [
              "\n",
              "  <div id=\"df-078c6340-52d4-4a76-8a88-d4e8a341e963\">\n",
              "    <div class=\"colab-df-container\">\n",
              "      <div>\n",
              "<style scoped>\n",
              "    .dataframe tbody tr th:only-of-type {\n",
              "        vertical-align: middle;\n",
              "    }\n",
              "\n",
              "    .dataframe tbody tr th {\n",
              "        vertical-align: top;\n",
              "    }\n",
              "\n",
              "    .dataframe thead th {\n",
              "        text-align: right;\n",
              "    }\n",
              "</style>\n",
              "<table border=\"1\" class=\"dataframe\">\n",
              "  <thead>\n",
              "    <tr style=\"text-align: right;\">\n",
              "      <th></th>\n",
              "      <th>id</th>\n",
              "      <th>A1_Score</th>\n",
              "      <th>A2_Score</th>\n",
              "      <th>A3_Score</th>\n",
              "      <th>A4_Score</th>\n",
              "      <th>A5_Score</th>\n",
              "      <th>A6_Score</th>\n",
              "      <th>A7_Score</th>\n",
              "      <th>A8_Score</th>\n",
              "      <th>A9_Score</th>\n",
              "      <th>...</th>\n",
              "      <th>gender</th>\n",
              "      <th>ethnicity</th>\n",
              "      <th>jundice</th>\n",
              "      <th>austim</th>\n",
              "      <th>contry_of_res</th>\n",
              "      <th>used_app_before</th>\n",
              "      <th>result</th>\n",
              "      <th>age_desc</th>\n",
              "      <th>relation</th>\n",
              "      <th>Class/ASD</th>\n",
              "    </tr>\n",
              "  </thead>\n",
              "  <tbody>\n",
              "    <tr>\n",
              "      <th>0</th>\n",
              "      <td>1</td>\n",
              "      <td>1</td>\n",
              "      <td>1</td>\n",
              "      <td>0</td>\n",
              "      <td>0</td>\n",
              "      <td>1</td>\n",
              "      <td>1</td>\n",
              "      <td>0</td>\n",
              "      <td>1</td>\n",
              "      <td>0</td>\n",
              "      <td>...</td>\n",
              "      <td>m</td>\n",
              "      <td>Others</td>\n",
              "      <td>no</td>\n",
              "      <td>no</td>\n",
              "      <td>Jordan</td>\n",
              "      <td>no</td>\n",
              "      <td>5</td>\n",
              "      <td>4-11 years</td>\n",
              "      <td>Parent</td>\n",
              "      <td>NO</td>\n",
              "    </tr>\n",
              "    <tr>\n",
              "      <th>1</th>\n",
              "      <td>2</td>\n",
              "      <td>1</td>\n",
              "      <td>1</td>\n",
              "      <td>0</td>\n",
              "      <td>0</td>\n",
              "      <td>1</td>\n",
              "      <td>1</td>\n",
              "      <td>0</td>\n",
              "      <td>1</td>\n",
              "      <td>0</td>\n",
              "      <td>...</td>\n",
              "      <td>m</td>\n",
              "      <td>Middle Eastern</td>\n",
              "      <td>no</td>\n",
              "      <td>no</td>\n",
              "      <td>Jordan</td>\n",
              "      <td>no</td>\n",
              "      <td>5</td>\n",
              "      <td>4-11 years</td>\n",
              "      <td>Parent</td>\n",
              "      <td>NO</td>\n",
              "    </tr>\n",
              "    <tr>\n",
              "      <th>2</th>\n",
              "      <td>3</td>\n",
              "      <td>1</td>\n",
              "      <td>1</td>\n",
              "      <td>0</td>\n",
              "      <td>0</td>\n",
              "      <td>0</td>\n",
              "      <td>1</td>\n",
              "      <td>1</td>\n",
              "      <td>1</td>\n",
              "      <td>0</td>\n",
              "      <td>...</td>\n",
              "      <td>m</td>\n",
              "      <td>NaN</td>\n",
              "      <td>no</td>\n",
              "      <td>no</td>\n",
              "      <td>Jordan</td>\n",
              "      <td>yes</td>\n",
              "      <td>5</td>\n",
              "      <td>4-11 years</td>\n",
              "      <td>NaN</td>\n",
              "      <td>NO</td>\n",
              "    </tr>\n",
              "    <tr>\n",
              "      <th>3</th>\n",
              "      <td>4</td>\n",
              "      <td>0</td>\n",
              "      <td>1</td>\n",
              "      <td>0</td>\n",
              "      <td>0</td>\n",
              "      <td>1</td>\n",
              "      <td>1</td>\n",
              "      <td>0</td>\n",
              "      <td>0</td>\n",
              "      <td>0</td>\n",
              "      <td>...</td>\n",
              "      <td>f</td>\n",
              "      <td>NaN</td>\n",
              "      <td>yes</td>\n",
              "      <td>no</td>\n",
              "      <td>Jordan</td>\n",
              "      <td>no</td>\n",
              "      <td>4</td>\n",
              "      <td>4-11 years</td>\n",
              "      <td>NaN</td>\n",
              "      <td>NO</td>\n",
              "    </tr>\n",
              "    <tr>\n",
              "      <th>4</th>\n",
              "      <td>5</td>\n",
              "      <td>1</td>\n",
              "      <td>1</td>\n",
              "      <td>1</td>\n",
              "      <td>1</td>\n",
              "      <td>1</td>\n",
              "      <td>1</td>\n",
              "      <td>1</td>\n",
              "      <td>1</td>\n",
              "      <td>1</td>\n",
              "      <td>...</td>\n",
              "      <td>m</td>\n",
              "      <td>Others</td>\n",
              "      <td>yes</td>\n",
              "      <td>no</td>\n",
              "      <td>United States</td>\n",
              "      <td>no</td>\n",
              "      <td>10</td>\n",
              "      <td>4-11 years</td>\n",
              "      <td>Parent</td>\n",
              "      <td>YES</td>\n",
              "    </tr>\n",
              "  </tbody>\n",
              "</table>\n",
              "<p>5 rows × 22 columns</p>\n",
              "</div>\n",
              "      <button class=\"colab-df-convert\" onclick=\"convertToInteractive('df-078c6340-52d4-4a76-8a88-d4e8a341e963')\"\n",
              "              title=\"Convert this dataframe to an interactive table.\"\n",
              "              style=\"display:none;\">\n",
              "        \n",
              "  <svg xmlns=\"http://www.w3.org/2000/svg\" height=\"24px\"viewBox=\"0 0 24 24\"\n",
              "       width=\"24px\">\n",
              "    <path d=\"M0 0h24v24H0V0z\" fill=\"none\"/>\n",
              "    <path d=\"M18.56 5.44l.94 2.06.94-2.06 2.06-.94-2.06-.94-.94-2.06-.94 2.06-2.06.94zm-11 1L8.5 8.5l.94-2.06 2.06-.94-2.06-.94L8.5 2.5l-.94 2.06-2.06.94zm10 10l.94 2.06.94-2.06 2.06-.94-2.06-.94-.94-2.06-.94 2.06-2.06.94z\"/><path d=\"M17.41 7.96l-1.37-1.37c-.4-.4-.92-.59-1.43-.59-.52 0-1.04.2-1.43.59L10.3 9.45l-7.72 7.72c-.78.78-.78 2.05 0 2.83L4 21.41c.39.39.9.59 1.41.59.51 0 1.02-.2 1.41-.59l7.78-7.78 2.81-2.81c.8-.78.8-2.07 0-2.86zM5.41 20L4 18.59l7.72-7.72 1.47 1.35L5.41 20z\"/>\n",
              "  </svg>\n",
              "      </button>\n",
              "      \n",
              "  <style>\n",
              "    .colab-df-container {\n",
              "      display:flex;\n",
              "      flex-wrap:wrap;\n",
              "      gap: 12px;\n",
              "    }\n",
              "\n",
              "    .colab-df-convert {\n",
              "      background-color: #E8F0FE;\n",
              "      border: none;\n",
              "      border-radius: 50%;\n",
              "      cursor: pointer;\n",
              "      display: none;\n",
              "      fill: #1967D2;\n",
              "      height: 32px;\n",
              "      padding: 0 0 0 0;\n",
              "      width: 32px;\n",
              "    }\n",
              "\n",
              "    .colab-df-convert:hover {\n",
              "      background-color: #E2EBFA;\n",
              "      box-shadow: 0px 1px 2px rgba(60, 64, 67, 0.3), 0px 1px 3px 1px rgba(60, 64, 67, 0.15);\n",
              "      fill: #174EA6;\n",
              "    }\n",
              "\n",
              "    [theme=dark] .colab-df-convert {\n",
              "      background-color: #3B4455;\n",
              "      fill: #D2E3FC;\n",
              "    }\n",
              "\n",
              "    [theme=dark] .colab-df-convert:hover {\n",
              "      background-color: #434B5C;\n",
              "      box-shadow: 0px 1px 3px 1px rgba(0, 0, 0, 0.15);\n",
              "      filter: drop-shadow(0px 1px 2px rgba(0, 0, 0, 0.3));\n",
              "      fill: #FFFFFF;\n",
              "    }\n",
              "  </style>\n",
              "\n",
              "      <script>\n",
              "        const buttonEl =\n",
              "          document.querySelector('#df-078c6340-52d4-4a76-8a88-d4e8a341e963 button.colab-df-convert');\n",
              "        buttonEl.style.display =\n",
              "          google.colab.kernel.accessAllowed ? 'block' : 'none';\n",
              "\n",
              "        async function convertToInteractive(key) {\n",
              "          const element = document.querySelector('#df-078c6340-52d4-4a76-8a88-d4e8a341e963');\n",
              "          const dataTable =\n",
              "            await google.colab.kernel.invokeFunction('convertToInteractive',\n",
              "                                                     [key], {});\n",
              "          if (!dataTable) return;\n",
              "\n",
              "          const docLinkHtml = 'Like what you see? Visit the ' +\n",
              "            '<a target=\"_blank\" href=https://colab.research.google.com/notebooks/data_table.ipynb>data table notebook</a>'\n",
              "            + ' to learn more about interactive tables.';\n",
              "          element.innerHTML = '';\n",
              "          dataTable['output_type'] = 'display_data';\n",
              "          await google.colab.output.renderOutput(dataTable, element);\n",
              "          const docLink = document.createElement('div');\n",
              "          docLink.innerHTML = docLinkHtml;\n",
              "          element.appendChild(docLink);\n",
              "        }\n",
              "      </script>\n",
              "    </div>\n",
              "  </div>\n",
              "  "
            ]
          },
          "metadata": {},
          "execution_count": 4
        }
      ],
      "source": [
        "df = df.replace('?', np.nan)\n",
        "\n",
        "df.head()"
      ]
    },
    {
      "cell_type": "code",
      "execution_count": null,
      "metadata": {
        "colab": {
          "base_uri": "https://localhost:8080/"
        },
        "id": "sf7kDDhuimK8",
        "outputId": "ee77282a-aa29-4a2c-ac74-e756c18c3981"
      },
      "outputs": [
        {
          "output_type": "execute_result",
          "data": {
            "text/plain": [
              "id                  int64\n",
              "A1_Score            int64\n",
              "A2_Score            int64\n",
              "A3_Score            int64\n",
              "A4_Score            int64\n",
              "A5_Score            int64\n",
              "A6_Score            int64\n",
              "A7_Score            int64\n",
              "A8_Score            int64\n",
              "A9_Score            int64\n",
              "A10_Score           int64\n",
              "age                object\n",
              "gender             object\n",
              "ethnicity          object\n",
              "jundice            object\n",
              "austim             object\n",
              "contry_of_res      object\n",
              "used_app_before    object\n",
              "result              int64\n",
              "age_desc           object\n",
              "relation           object\n",
              "Class/ASD          object\n",
              "dtype: object"
            ]
          },
          "metadata": {},
          "execution_count": 5
        }
      ],
      "source": [
        "df.dtypes"
      ]
    },
    {
      "cell_type": "markdown",
      "metadata": {
        "id": "4CuFUQFgk5CO"
      },
      "source": [
        "###Replace Null Values"
      ]
    },
    {
      "cell_type": "markdown",
      "metadata": {
        "id": "2jozELXqk-dX"
      },
      "source": [
        "*   Unknown values of '*age*' feature are replaced by the median\n",
        "*   Unknown values of '*ethnicity*' feature are replaced by '*Others*'\n",
        "*   Unknown values of '*relation*' feature are replaced by '*Unknown*'"
      ]
    },
    {
      "cell_type": "code",
      "execution_count": null,
      "metadata": {
        "colab": {
          "base_uri": "https://localhost:8080/",
          "height": 236
        },
        "id": "ujxPVLVzaiUK",
        "outputId": "37738508-ad58-4b5f-8d43-1dece82d0f2b"
      },
      "outputs": [
        {
          "output_type": "execute_result",
          "data": {
            "text/plain": [
              "   id  A1_Score  A2_Score  A3_Score  A4_Score  A5_Score  A6_Score  A7_Score  \\\n",
              "0   1         1         1         0         0         1         1         0   \n",
              "1   2         1         1         0         0         1         1         0   \n",
              "2   3         1         1         0         0         0         1         1   \n",
              "3   4         0         1         0         0         1         1         0   \n",
              "4   5         1         1         1         1         1         1         1   \n",
              "\n",
              "   A8_Score  A9_Score  ...  gender        ethnicity jundice austim  \\\n",
              "0         1         0  ...       m           Others      no     no   \n",
              "1         1         0  ...       m  Middle Eastern       no     no   \n",
              "2         1         0  ...       m           Others      no     no   \n",
              "3         0         0  ...       f           Others     yes     no   \n",
              "4         1         1  ...       m           Others     yes     no   \n",
              "\n",
              "   contry_of_res used_app_before result    age_desc  relation Class/ASD  \n",
              "0         Jordan              no      5  4-11 years    Parent        NO  \n",
              "1         Jordan              no      5  4-11 years    Parent        NO  \n",
              "2         Jordan             yes      5  4-11 years   Unknown        NO  \n",
              "3         Jordan              no      4  4-11 years   Unknown        NO  \n",
              "4  United States              no     10  4-11 years    Parent       YES  \n",
              "\n",
              "[5 rows x 22 columns]"
            ],
            "text/html": [
              "\n",
              "  <div id=\"df-2ebb5b4c-7091-4c56-a752-8d56e8ee201b\">\n",
              "    <div class=\"colab-df-container\">\n",
              "      <div>\n",
              "<style scoped>\n",
              "    .dataframe tbody tr th:only-of-type {\n",
              "        vertical-align: middle;\n",
              "    }\n",
              "\n",
              "    .dataframe tbody tr th {\n",
              "        vertical-align: top;\n",
              "    }\n",
              "\n",
              "    .dataframe thead th {\n",
              "        text-align: right;\n",
              "    }\n",
              "</style>\n",
              "<table border=\"1\" class=\"dataframe\">\n",
              "  <thead>\n",
              "    <tr style=\"text-align: right;\">\n",
              "      <th></th>\n",
              "      <th>id</th>\n",
              "      <th>A1_Score</th>\n",
              "      <th>A2_Score</th>\n",
              "      <th>A3_Score</th>\n",
              "      <th>A4_Score</th>\n",
              "      <th>A5_Score</th>\n",
              "      <th>A6_Score</th>\n",
              "      <th>A7_Score</th>\n",
              "      <th>A8_Score</th>\n",
              "      <th>A9_Score</th>\n",
              "      <th>...</th>\n",
              "      <th>gender</th>\n",
              "      <th>ethnicity</th>\n",
              "      <th>jundice</th>\n",
              "      <th>austim</th>\n",
              "      <th>contry_of_res</th>\n",
              "      <th>used_app_before</th>\n",
              "      <th>result</th>\n",
              "      <th>age_desc</th>\n",
              "      <th>relation</th>\n",
              "      <th>Class/ASD</th>\n",
              "    </tr>\n",
              "  </thead>\n",
              "  <tbody>\n",
              "    <tr>\n",
              "      <th>0</th>\n",
              "      <td>1</td>\n",
              "      <td>1</td>\n",
              "      <td>1</td>\n",
              "      <td>0</td>\n",
              "      <td>0</td>\n",
              "      <td>1</td>\n",
              "      <td>1</td>\n",
              "      <td>0</td>\n",
              "      <td>1</td>\n",
              "      <td>0</td>\n",
              "      <td>...</td>\n",
              "      <td>m</td>\n",
              "      <td>Others</td>\n",
              "      <td>no</td>\n",
              "      <td>no</td>\n",
              "      <td>Jordan</td>\n",
              "      <td>no</td>\n",
              "      <td>5</td>\n",
              "      <td>4-11 years</td>\n",
              "      <td>Parent</td>\n",
              "      <td>NO</td>\n",
              "    </tr>\n",
              "    <tr>\n",
              "      <th>1</th>\n",
              "      <td>2</td>\n",
              "      <td>1</td>\n",
              "      <td>1</td>\n",
              "      <td>0</td>\n",
              "      <td>0</td>\n",
              "      <td>1</td>\n",
              "      <td>1</td>\n",
              "      <td>0</td>\n",
              "      <td>1</td>\n",
              "      <td>0</td>\n",
              "      <td>...</td>\n",
              "      <td>m</td>\n",
              "      <td>Middle Eastern</td>\n",
              "      <td>no</td>\n",
              "      <td>no</td>\n",
              "      <td>Jordan</td>\n",
              "      <td>no</td>\n",
              "      <td>5</td>\n",
              "      <td>4-11 years</td>\n",
              "      <td>Parent</td>\n",
              "      <td>NO</td>\n",
              "    </tr>\n",
              "    <tr>\n",
              "      <th>2</th>\n",
              "      <td>3</td>\n",
              "      <td>1</td>\n",
              "      <td>1</td>\n",
              "      <td>0</td>\n",
              "      <td>0</td>\n",
              "      <td>0</td>\n",
              "      <td>1</td>\n",
              "      <td>1</td>\n",
              "      <td>1</td>\n",
              "      <td>0</td>\n",
              "      <td>...</td>\n",
              "      <td>m</td>\n",
              "      <td>Others</td>\n",
              "      <td>no</td>\n",
              "      <td>no</td>\n",
              "      <td>Jordan</td>\n",
              "      <td>yes</td>\n",
              "      <td>5</td>\n",
              "      <td>4-11 years</td>\n",
              "      <td>Unknown</td>\n",
              "      <td>NO</td>\n",
              "    </tr>\n",
              "    <tr>\n",
              "      <th>3</th>\n",
              "      <td>4</td>\n",
              "      <td>0</td>\n",
              "      <td>1</td>\n",
              "      <td>0</td>\n",
              "      <td>0</td>\n",
              "      <td>1</td>\n",
              "      <td>1</td>\n",
              "      <td>0</td>\n",
              "      <td>0</td>\n",
              "      <td>0</td>\n",
              "      <td>...</td>\n",
              "      <td>f</td>\n",
              "      <td>Others</td>\n",
              "      <td>yes</td>\n",
              "      <td>no</td>\n",
              "      <td>Jordan</td>\n",
              "      <td>no</td>\n",
              "      <td>4</td>\n",
              "      <td>4-11 years</td>\n",
              "      <td>Unknown</td>\n",
              "      <td>NO</td>\n",
              "    </tr>\n",
              "    <tr>\n",
              "      <th>4</th>\n",
              "      <td>5</td>\n",
              "      <td>1</td>\n",
              "      <td>1</td>\n",
              "      <td>1</td>\n",
              "      <td>1</td>\n",
              "      <td>1</td>\n",
              "      <td>1</td>\n",
              "      <td>1</td>\n",
              "      <td>1</td>\n",
              "      <td>1</td>\n",
              "      <td>...</td>\n",
              "      <td>m</td>\n",
              "      <td>Others</td>\n",
              "      <td>yes</td>\n",
              "      <td>no</td>\n",
              "      <td>United States</td>\n",
              "      <td>no</td>\n",
              "      <td>10</td>\n",
              "      <td>4-11 years</td>\n",
              "      <td>Parent</td>\n",
              "      <td>YES</td>\n",
              "    </tr>\n",
              "  </tbody>\n",
              "</table>\n",
              "<p>5 rows × 22 columns</p>\n",
              "</div>\n",
              "      <button class=\"colab-df-convert\" onclick=\"convertToInteractive('df-2ebb5b4c-7091-4c56-a752-8d56e8ee201b')\"\n",
              "              title=\"Convert this dataframe to an interactive table.\"\n",
              "              style=\"display:none;\">\n",
              "        \n",
              "  <svg xmlns=\"http://www.w3.org/2000/svg\" height=\"24px\"viewBox=\"0 0 24 24\"\n",
              "       width=\"24px\">\n",
              "    <path d=\"M0 0h24v24H0V0z\" fill=\"none\"/>\n",
              "    <path d=\"M18.56 5.44l.94 2.06.94-2.06 2.06-.94-2.06-.94-.94-2.06-.94 2.06-2.06.94zm-11 1L8.5 8.5l.94-2.06 2.06-.94-2.06-.94L8.5 2.5l-.94 2.06-2.06.94zm10 10l.94 2.06.94-2.06 2.06-.94-2.06-.94-.94-2.06-.94 2.06-2.06.94z\"/><path d=\"M17.41 7.96l-1.37-1.37c-.4-.4-.92-.59-1.43-.59-.52 0-1.04.2-1.43.59L10.3 9.45l-7.72 7.72c-.78.78-.78 2.05 0 2.83L4 21.41c.39.39.9.59 1.41.59.51 0 1.02-.2 1.41-.59l7.78-7.78 2.81-2.81c.8-.78.8-2.07 0-2.86zM5.41 20L4 18.59l7.72-7.72 1.47 1.35L5.41 20z\"/>\n",
              "  </svg>\n",
              "      </button>\n",
              "      \n",
              "  <style>\n",
              "    .colab-df-container {\n",
              "      display:flex;\n",
              "      flex-wrap:wrap;\n",
              "      gap: 12px;\n",
              "    }\n",
              "\n",
              "    .colab-df-convert {\n",
              "      background-color: #E8F0FE;\n",
              "      border: none;\n",
              "      border-radius: 50%;\n",
              "      cursor: pointer;\n",
              "      display: none;\n",
              "      fill: #1967D2;\n",
              "      height: 32px;\n",
              "      padding: 0 0 0 0;\n",
              "      width: 32px;\n",
              "    }\n",
              "\n",
              "    .colab-df-convert:hover {\n",
              "      background-color: #E2EBFA;\n",
              "      box-shadow: 0px 1px 2px rgba(60, 64, 67, 0.3), 0px 1px 3px 1px rgba(60, 64, 67, 0.15);\n",
              "      fill: #174EA6;\n",
              "    }\n",
              "\n",
              "    [theme=dark] .colab-df-convert {\n",
              "      background-color: #3B4455;\n",
              "      fill: #D2E3FC;\n",
              "    }\n",
              "\n",
              "    [theme=dark] .colab-df-convert:hover {\n",
              "      background-color: #434B5C;\n",
              "      box-shadow: 0px 1px 3px 1px rgba(0, 0, 0, 0.15);\n",
              "      filter: drop-shadow(0px 1px 2px rgba(0, 0, 0, 0.3));\n",
              "      fill: #FFFFFF;\n",
              "    }\n",
              "  </style>\n",
              "\n",
              "      <script>\n",
              "        const buttonEl =\n",
              "          document.querySelector('#df-2ebb5b4c-7091-4c56-a752-8d56e8ee201b button.colab-df-convert');\n",
              "        buttonEl.style.display =\n",
              "          google.colab.kernel.accessAllowed ? 'block' : 'none';\n",
              "\n",
              "        async function convertToInteractive(key) {\n",
              "          const element = document.querySelector('#df-2ebb5b4c-7091-4c56-a752-8d56e8ee201b');\n",
              "          const dataTable =\n",
              "            await google.colab.kernel.invokeFunction('convertToInteractive',\n",
              "                                                     [key], {});\n",
              "          if (!dataTable) return;\n",
              "\n",
              "          const docLinkHtml = 'Like what you see? Visit the ' +\n",
              "            '<a target=\"_blank\" href=https://colab.research.google.com/notebooks/data_table.ipynb>data table notebook</a>'\n",
              "            + ' to learn more about interactive tables.';\n",
              "          element.innerHTML = '';\n",
              "          dataTable['output_type'] = 'display_data';\n",
              "          await google.colab.output.renderOutput(dataTable, element);\n",
              "          const docLink = document.createElement('div');\n",
              "          docLink.innerHTML = docLinkHtml;\n",
              "          element.appendChild(docLink);\n",
              "        }\n",
              "      </script>\n",
              "    </div>\n",
              "  </div>\n",
              "  "
            ]
          },
          "metadata": {},
          "execution_count": 6
        }
      ],
      "source": [
        "# Objects in 'age' feature are converted to integer to calculate median\n",
        "df['age'] = df['age'].astype('Int64')\n",
        "\n",
        "df['age'] = df['age'].fillna(df['age'].median())\n",
        "df['ethnicity'] = df['ethnicity'].fillna('Others')\n",
        "df['relation'] = df['relation'].fillna('Unknown')\n",
        "df.head()"
      ]
    },
    {
      "cell_type": "markdown",
      "metadata": {
        "id": "WmkjinJkmVly"
      },
      "source": [
        "###Convert Categorical Features into Numerics"
      ]
    },
    {
      "cell_type": "code",
      "execution_count": null,
      "metadata": {
        "colab": {
          "base_uri": "https://localhost:8080/",
          "height": 236
        },
        "id": "yPLXQod5bmLQ",
        "outputId": "0e082efd-d79b-4d5c-a578-5ba625adf8a7"
      },
      "outputs": [
        {
          "output_type": "execute_result",
          "data": {
            "text/plain": [
              "   id  A1_Score  A2_Score  A3_Score  A4_Score  A5_Score  A6_Score  A7_Score  \\\n",
              "0   1         1         1         0         0         1         1         0   \n",
              "1   2         1         1         0         0         1         1         0   \n",
              "2   3         1         1         0         0         0         1         1   \n",
              "3   4         0         1         0         0         1         1         0   \n",
              "4   5         1         1         1         1         1         1         1   \n",
              "\n",
              "   A8_Score  A9_Score  ...  result  gender  ethnicity  jundice  austim  \\\n",
              "0         1         0  ...       5       1          5        0       0   \n",
              "1         1         0  ...       5       1          4        0       0   \n",
              "2         1         0  ...       5       1          5        0       0   \n",
              "3         0         0  ...       4       0          5        1       0   \n",
              "4         1         1  ...      10       1          5        1       0   \n",
              "\n",
              "   contry_of_res  used_app_before  age_desc  relation  Class/ASD  \n",
              "0             24                0         0         1          0  \n",
              "1             24                0         0         1          0  \n",
              "2             24                1         0         4          0  \n",
              "3             24                0         0         4          0  \n",
              "4             51                0         0         1          1  \n",
              "\n",
              "[5 rows x 22 columns]"
            ],
            "text/html": [
              "\n",
              "  <div id=\"df-f9aa5199-0fd0-4e41-9201-c277ab79d53c\">\n",
              "    <div class=\"colab-df-container\">\n",
              "      <div>\n",
              "<style scoped>\n",
              "    .dataframe tbody tr th:only-of-type {\n",
              "        vertical-align: middle;\n",
              "    }\n",
              "\n",
              "    .dataframe tbody tr th {\n",
              "        vertical-align: top;\n",
              "    }\n",
              "\n",
              "    .dataframe thead th {\n",
              "        text-align: right;\n",
              "    }\n",
              "</style>\n",
              "<table border=\"1\" class=\"dataframe\">\n",
              "  <thead>\n",
              "    <tr style=\"text-align: right;\">\n",
              "      <th></th>\n",
              "      <th>id</th>\n",
              "      <th>A1_Score</th>\n",
              "      <th>A2_Score</th>\n",
              "      <th>A3_Score</th>\n",
              "      <th>A4_Score</th>\n",
              "      <th>A5_Score</th>\n",
              "      <th>A6_Score</th>\n",
              "      <th>A7_Score</th>\n",
              "      <th>A8_Score</th>\n",
              "      <th>A9_Score</th>\n",
              "      <th>...</th>\n",
              "      <th>result</th>\n",
              "      <th>gender</th>\n",
              "      <th>ethnicity</th>\n",
              "      <th>jundice</th>\n",
              "      <th>austim</th>\n",
              "      <th>contry_of_res</th>\n",
              "      <th>used_app_before</th>\n",
              "      <th>age_desc</th>\n",
              "      <th>relation</th>\n",
              "      <th>Class/ASD</th>\n",
              "    </tr>\n",
              "  </thead>\n",
              "  <tbody>\n",
              "    <tr>\n",
              "      <th>0</th>\n",
              "      <td>1</td>\n",
              "      <td>1</td>\n",
              "      <td>1</td>\n",
              "      <td>0</td>\n",
              "      <td>0</td>\n",
              "      <td>1</td>\n",
              "      <td>1</td>\n",
              "      <td>0</td>\n",
              "      <td>1</td>\n",
              "      <td>0</td>\n",
              "      <td>...</td>\n",
              "      <td>5</td>\n",
              "      <td>1</td>\n",
              "      <td>5</td>\n",
              "      <td>0</td>\n",
              "      <td>0</td>\n",
              "      <td>24</td>\n",
              "      <td>0</td>\n",
              "      <td>0</td>\n",
              "      <td>1</td>\n",
              "      <td>0</td>\n",
              "    </tr>\n",
              "    <tr>\n",
              "      <th>1</th>\n",
              "      <td>2</td>\n",
              "      <td>1</td>\n",
              "      <td>1</td>\n",
              "      <td>0</td>\n",
              "      <td>0</td>\n",
              "      <td>1</td>\n",
              "      <td>1</td>\n",
              "      <td>0</td>\n",
              "      <td>1</td>\n",
              "      <td>0</td>\n",
              "      <td>...</td>\n",
              "      <td>5</td>\n",
              "      <td>1</td>\n",
              "      <td>4</td>\n",
              "      <td>0</td>\n",
              "      <td>0</td>\n",
              "      <td>24</td>\n",
              "      <td>0</td>\n",
              "      <td>0</td>\n",
              "      <td>1</td>\n",
              "      <td>0</td>\n",
              "    </tr>\n",
              "    <tr>\n",
              "      <th>2</th>\n",
              "      <td>3</td>\n",
              "      <td>1</td>\n",
              "      <td>1</td>\n",
              "      <td>0</td>\n",
              "      <td>0</td>\n",
              "      <td>0</td>\n",
              "      <td>1</td>\n",
              "      <td>1</td>\n",
              "      <td>1</td>\n",
              "      <td>0</td>\n",
              "      <td>...</td>\n",
              "      <td>5</td>\n",
              "      <td>1</td>\n",
              "      <td>5</td>\n",
              "      <td>0</td>\n",
              "      <td>0</td>\n",
              "      <td>24</td>\n",
              "      <td>1</td>\n",
              "      <td>0</td>\n",
              "      <td>4</td>\n",
              "      <td>0</td>\n",
              "    </tr>\n",
              "    <tr>\n",
              "      <th>3</th>\n",
              "      <td>4</td>\n",
              "      <td>0</td>\n",
              "      <td>1</td>\n",
              "      <td>0</td>\n",
              "      <td>0</td>\n",
              "      <td>1</td>\n",
              "      <td>1</td>\n",
              "      <td>0</td>\n",
              "      <td>0</td>\n",
              "      <td>0</td>\n",
              "      <td>...</td>\n",
              "      <td>4</td>\n",
              "      <td>0</td>\n",
              "      <td>5</td>\n",
              "      <td>1</td>\n",
              "      <td>0</td>\n",
              "      <td>24</td>\n",
              "      <td>0</td>\n",
              "      <td>0</td>\n",
              "      <td>4</td>\n",
              "      <td>0</td>\n",
              "    </tr>\n",
              "    <tr>\n",
              "      <th>4</th>\n",
              "      <td>5</td>\n",
              "      <td>1</td>\n",
              "      <td>1</td>\n",
              "      <td>1</td>\n",
              "      <td>1</td>\n",
              "      <td>1</td>\n",
              "      <td>1</td>\n",
              "      <td>1</td>\n",
              "      <td>1</td>\n",
              "      <td>1</td>\n",
              "      <td>...</td>\n",
              "      <td>10</td>\n",
              "      <td>1</td>\n",
              "      <td>5</td>\n",
              "      <td>1</td>\n",
              "      <td>0</td>\n",
              "      <td>51</td>\n",
              "      <td>0</td>\n",
              "      <td>0</td>\n",
              "      <td>1</td>\n",
              "      <td>1</td>\n",
              "    </tr>\n",
              "  </tbody>\n",
              "</table>\n",
              "<p>5 rows × 22 columns</p>\n",
              "</div>\n",
              "      <button class=\"colab-df-convert\" onclick=\"convertToInteractive('df-f9aa5199-0fd0-4e41-9201-c277ab79d53c')\"\n",
              "              title=\"Convert this dataframe to an interactive table.\"\n",
              "              style=\"display:none;\">\n",
              "        \n",
              "  <svg xmlns=\"http://www.w3.org/2000/svg\" height=\"24px\"viewBox=\"0 0 24 24\"\n",
              "       width=\"24px\">\n",
              "    <path d=\"M0 0h24v24H0V0z\" fill=\"none\"/>\n",
              "    <path d=\"M18.56 5.44l.94 2.06.94-2.06 2.06-.94-2.06-.94-.94-2.06-.94 2.06-2.06.94zm-11 1L8.5 8.5l.94-2.06 2.06-.94-2.06-.94L8.5 2.5l-.94 2.06-2.06.94zm10 10l.94 2.06.94-2.06 2.06-.94-2.06-.94-.94-2.06-.94 2.06-2.06.94z\"/><path d=\"M17.41 7.96l-1.37-1.37c-.4-.4-.92-.59-1.43-.59-.52 0-1.04.2-1.43.59L10.3 9.45l-7.72 7.72c-.78.78-.78 2.05 0 2.83L4 21.41c.39.39.9.59 1.41.59.51 0 1.02-.2 1.41-.59l7.78-7.78 2.81-2.81c.8-.78.8-2.07 0-2.86zM5.41 20L4 18.59l7.72-7.72 1.47 1.35L5.41 20z\"/>\n",
              "  </svg>\n",
              "      </button>\n",
              "      \n",
              "  <style>\n",
              "    .colab-df-container {\n",
              "      display:flex;\n",
              "      flex-wrap:wrap;\n",
              "      gap: 12px;\n",
              "    }\n",
              "\n",
              "    .colab-df-convert {\n",
              "      background-color: #E8F0FE;\n",
              "      border: none;\n",
              "      border-radius: 50%;\n",
              "      cursor: pointer;\n",
              "      display: none;\n",
              "      fill: #1967D2;\n",
              "      height: 32px;\n",
              "      padding: 0 0 0 0;\n",
              "      width: 32px;\n",
              "    }\n",
              "\n",
              "    .colab-df-convert:hover {\n",
              "      background-color: #E2EBFA;\n",
              "      box-shadow: 0px 1px 2px rgba(60, 64, 67, 0.3), 0px 1px 3px 1px rgba(60, 64, 67, 0.15);\n",
              "      fill: #174EA6;\n",
              "    }\n",
              "\n",
              "    [theme=dark] .colab-df-convert {\n",
              "      background-color: #3B4455;\n",
              "      fill: #D2E3FC;\n",
              "    }\n",
              "\n",
              "    [theme=dark] .colab-df-convert:hover {\n",
              "      background-color: #434B5C;\n",
              "      box-shadow: 0px 1px 3px 1px rgba(0, 0, 0, 0.15);\n",
              "      filter: drop-shadow(0px 1px 2px rgba(0, 0, 0, 0.3));\n",
              "      fill: #FFFFFF;\n",
              "    }\n",
              "  </style>\n",
              "\n",
              "      <script>\n",
              "        const buttonEl =\n",
              "          document.querySelector('#df-f9aa5199-0fd0-4e41-9201-c277ab79d53c button.colab-df-convert');\n",
              "        buttonEl.style.display =\n",
              "          google.colab.kernel.accessAllowed ? 'block' : 'none';\n",
              "\n",
              "        async function convertToInteractive(key) {\n",
              "          const element = document.querySelector('#df-f9aa5199-0fd0-4e41-9201-c277ab79d53c');\n",
              "          const dataTable =\n",
              "            await google.colab.kernel.invokeFunction('convertToInteractive',\n",
              "                                                     [key], {});\n",
              "          if (!dataTable) return;\n",
              "\n",
              "          const docLinkHtml = 'Like what you see? Visit the ' +\n",
              "            '<a target=\"_blank\" href=https://colab.research.google.com/notebooks/data_table.ipynb>data table notebook</a>'\n",
              "            + ' to learn more about interactive tables.';\n",
              "          element.innerHTML = '';\n",
              "          dataTable['output_type'] = 'display_data';\n",
              "          await google.colab.output.renderOutput(dataTable, element);\n",
              "          const docLink = document.createElement('div');\n",
              "          docLink.innerHTML = docLinkHtml;\n",
              "          element.appendChild(docLink);\n",
              "        }\n",
              "      </script>\n",
              "    </div>\n",
              "  </div>\n",
              "  "
            ]
          },
          "metadata": {},
          "execution_count": 7
        }
      ],
      "source": [
        "le = LabelEncoder()\n",
        "\n",
        "label0 = le.fit_transform(df['gender'])\n",
        "label1 = le.fit_transform(df['ethnicity'])\n",
        "label2 = le.fit_transform(df['jundice'])\n",
        "label3 = le.fit_transform(df['austim'])\n",
        "label4 = le.fit_transform(df['contry_of_res'])\n",
        "label5 = le.fit_transform(df['used_app_before'])\n",
        "label6 = le.fit_transform(df['age_desc'])\n",
        "label7 = le.fit_transform(df['relation'])\n",
        "label8 = le.fit_transform(df['Class/ASD'])\n",
        "\n",
        "df.drop(\"gender\", axis=1, inplace=True)\n",
        "df.drop(\"ethnicity\", axis=1, inplace=True)\n",
        "df.drop(\"jundice\", axis=1, inplace=True)\n",
        "df.drop(\"austim\", axis=1, inplace=True)\n",
        "df.drop(\"contry_of_res\", axis=1, inplace=True)\n",
        "df.drop(\"used_app_before\", axis=1, inplace=True)\n",
        "df.drop(\"age_desc\", axis=1, inplace=True)\n",
        "df.drop(\"relation\", axis=1, inplace=True)\n",
        "df.drop(\"Class/ASD\", axis=1, inplace=True)\n",
        "\n",
        "df[\"gender\"] = label0\n",
        "df[\"ethnicity\"] = label1\n",
        "df[\"jundice\"] = label2\n",
        "df[\"austim\"] = label3\n",
        "df[\"contry_of_res\"] = label4\n",
        "df[\"used_app_before\"] = label5\n",
        "df[\"age_desc\"] = label6\n",
        "df[\"relation\"] = label7\n",
        "df[\"Class/ASD\"] = label8\n",
        "\n",
        "df.head()"
      ]
    },
    {
      "cell_type": "markdown",
      "metadata": {
        "id": "tIo3P0ezmgEI"
      },
      "source": [
        "##Split Train, Validation, and Test Data"
      ]
    },
    {
      "cell_type": "code",
      "execution_count": null,
      "metadata": {
        "id": "TMtVRc1hcib7"
      },
      "outputs": [],
      "source": [
        "# Extract the feature columns from the DataFrame\n",
        "X = df.drop('Class/ASD', axis=1)\n",
        "\n",
        "# Extract the label column from the DataFrame\n",
        "y = df['Class/ASD']\n",
        "\n",
        "# Split the data into training and testing sets\n",
        "X_train, X_test, y_train, y_test = train_test_split(X, y, test_size=0.2, random_state=42)\n",
        "X_train, X_val, y_train, y_val = train_test_split(X_train, y_train, test_size=0.25, random_state=42)"
      ]
    },
    {
      "cell_type": "markdown",
      "metadata": {
        "id": "GOIO_f_mmo0k"
      },
      "source": [
        "##**Base KNN Classifier**"
      ]
    },
    {
      "cell_type": "markdown",
      "metadata": {
        "id": "Vq4bDcqwpevX"
      },
      "source": [
        "3 k values :\n",
        "*   k = 3\n",
        "*   k = 5\n",
        "*   k = 7"
      ]
    },
    {
      "cell_type": "code",
      "execution_count": null,
      "metadata": {
        "colab": {
          "base_uri": "https://localhost:8080/",
          "height": 1000
        },
        "id": "crOy6Yr33Y2U",
        "outputId": "72655e8f-9d5c-43da-99d7-86d8389ceeaf"
      },
      "outputs": [
        {
          "output_type": "stream",
          "name": "stdout",
          "text": [
            "Metrics for k = 3\n",
            "Validation Accuracy: 0.576271186440678\n",
            "Validation Precision: 0.5792587674763726\n",
            "Validation Recall: 0.576271186440678\n",
            "Validation F1 Score: 0.5762711864406779\n",
            "\n"
          ]
        },
        {
          "output_type": "display_data",
          "data": {
            "text/plain": [
              "<Figure size 1000x700 with 2 Axes>"
            ],
            "image/png": "[encoded data removed]"
          },
          "metadata": {}
        },
        {
          "output_type": "stream",
          "name": "stdout",
          "text": [
            "Metrics for k = 5\n",
            "Validation Accuracy: 0.6610169491525424\n",
            "Validation Precision: 0.6616626311541566\n",
            "Validation Recall: 0.6610169491525424\n",
            "Validation F1 Score: 0.6582513531666074\n",
            "\n"
          ]
        },
        {
          "output_type": "display_data",
          "data": {
            "text/plain": [
              "<Figure size 1000x700 with 2 Axes>"
            ],
            "image/png": "[encoded data removed]"
          },
          "metadata": {}
        },
        {
          "output_type": "stream",
          "name": "stdout",
          "text": [
            "Metrics for k = 7\n",
            "Validation Accuracy: 0.5932203389830508\n",
            "Validation Precision: 0.5950516267290085\n",
            "Validation Recall: 0.5932203389830508\n",
            "Validation F1 Score: 0.5934541203974285\n",
            "\n"
          ]
        },
        {
          "output_type": "display_data",
          "data": {
            "text/plain": [
              "<Figure size 1000x700 with 2 Axes>"
            ],
            "image/png": "[encoded data removed]"
          },
          "metadata": {}
        },
        {
          "output_type": "stream",
          "name": "stdout",
          "text": [
            "Best k value: 5\n"
          ]
        }
      ],
      "source": [
        "from sklearn.neighbors import KNeighborsClassifier\n",
        "\n",
        "# Define the k values to compare\n",
        "k_values = [3, 5, 7]\n",
        "\n",
        "# Create dictionaries to store the performance metrics for each k value\n",
        "accuracy_scores = {}\n",
        "precision_scores = {}\n",
        "recall_scores = {}\n",
        "f1_scores_k = {}\n",
        "cm = {}\n",
        "\n",
        "# Iterate over the k values\n",
        "for k in k_values:\n",
        "    # Create a KNN classifier with the current k value\n",
        "    knn = KNeighborsClassifier(n_neighbors=k)\n",
        "\n",
        "    # Fit the classifier to the training data\n",
        "    knn.fit(X_train, y_train)\n",
        "\n",
        "    # Predict the labels for the validation data\n",
        "    y_pred_val = knn.predict(X_val)\n",
        "\n",
        "    # Calculate the accuracy, precision, recall, and F1 score on the validation data\n",
        "    accuracy_scores[k] = accuracy_score(y_val, y_pred_val)\n",
        "    precision_scores[k] = precision_score(y_val, y_pred_val, average='weighted')\n",
        "    recall_scores[k] = recall_score(y_val, y_pred_val, average='weighted')\n",
        "    f1_scores_k[k] = f1_score(y_val, y_pred_val, average='weighted')\n",
        "\n",
        "    # Calculate and plot the confusion matrix for the test data\n",
        "    cm[k] = confusion_matrix(y_test, y_pred_val)\n",
        "\n",
        "for k in k_values:\n",
        "    # Print the performance metrics for each k value\n",
        "    print(\"Metrics for k =\", k)\n",
        "    print(\"Validation Accuracy:\", accuracy_scores[k])\n",
        "    print(\"Validation Precision:\", precision_scores[k])\n",
        "    print(\"Validation Recall:\", recall_scores[k])\n",
        "    print(\"Validation F1 Score:\", f1_scores_k[k])\n",
        "    print()\n",
        "\n",
        "    plt.figure(figsize=(10, 7))\n",
        "    sns.heatmap(cm[k], annot=True, fmt='d', cmap='Blues')\n",
        "    plt.xlabel('Predicted')\n",
        "    plt.ylabel('Actual')\n",
        "    plt.show()\n",
        "\n",
        "# Select the best k value based on the validation metrics\n",
        "best_k = max(f1_scores_k, key=f1_scores_k.get)\n",
        "print(\"Best k value:\", best_k)\n",
        "\n",
        "# Create a KNN classifier with the best k value\n",
        "knn = KNeighborsClassifier(n_neighbors=best_k)\n",
        "\n",
        "# Fit the classifier to the training data\n",
        "knn.fit(X_train, y_train)\n",
        "\n",
        "# Predict the labels for the test data\n",
        "y_pred_knn = knn.predict(X_test)"
      ]
    },
    {
      "cell_type": "markdown",
      "metadata": {
        "id": "6meovX6Pm41i"
      },
      "source": [
        "##**Base Naive Bayes Classifier**"
      ]
    },
    {
      "cell_type": "code",
      "execution_count": null,
      "metadata": {
        "colab": {
          "base_uri": "https://localhost:8080/",
          "height": 758
        },
        "id": "YdPs_XKdQTYV",
        "outputId": "b18a96f9-b062-4951-f5f3-43d6752f39c4"
      },
      "outputs": [
        {
          "output_type": "stream",
          "name": "stdout",
          "text": [
            "Validation Accuracy: 0.8813559322033898\n",
            "Validation Precision: 0.8859251737873937\n",
            "Validation Recall: 0.8813559322033898\n",
            "Validation F1 Score: 0.8813559322033898\n",
            "Test Accuracy: 0.9661016949152542\n",
            "Test Precision: 0.9661016949152542\n",
            "Test Recall: 0.9661016949152542\n",
            "Test F1 Score: 0.9661016949152542\n"
          ]
        },
        {
          "output_type": "display_data",
          "data": {
            "text/plain": [
              "<Figure size 1000x700 with 2 Axes>"
            ],
            "image/png": "[encoded data removed]"
          },
          "metadata": {}
        }
      ],
      "source": [
        "from sklearn.naive_bayes import GaussianNB\n",
        "\n",
        "# Create a Naive Bayes classifier\n",
        "nb = GaussianNB()\n",
        "\n",
        "# Fit the classifier to the training data\n",
        "nb.fit(X_train, y_train)\n",
        "\n",
        "# Predict the labels for the validation data\n",
        "y_pred_val = nb.predict(X_val)\n",
        "\n",
        "# Calculate the accuracy, precision, recall, and F1 score on the validation data\n",
        "accuracy_val = accuracy_score(y_val, y_pred_val)\n",
        "precision_val = precision_score(y_val, y_pred_val, average='weighted')\n",
        "recall_val = recall_score(y_val, y_pred_val, average='weighted')\n",
        "f1_val = f1_score(y_val, y_pred_val, average='weighted')\n",
        "\n",
        "print(\"Validation Accuracy:\", accuracy_val)\n",
        "print(\"Validation Precision:\", precision_val)\n",
        "print(\"Validation Recall:\", recall_val)\n",
        "print(\"Validation F1 Score:\", f1_val)\n",
        "\n",
        "# Predict the labels for the test data\n",
        "y_pred_nb = nb.predict(X_test)\n",
        "\n",
        "# Calculate the accuracy, precision, recall, and F1 score on the test data\n",
        "accuracy_nb = accuracy_score(y_test, y_pred_nb)\n",
        "precision_nb = precision_score(y_test, y_pred_nb, average='weighted')\n",
        "recall_nb = recall_score(y_test, y_pred_nb, average='weighted')\n",
        "f1_nb = f1_score(y_test, y_pred_nb, average='weighted')\n",
        "\n",
        "print(\"Test Accuracy:\", accuracy_nb)\n",
        "print(\"Test Precision:\", precision_nb)\n",
        "print(\"Test Recall:\", recall_nb)\n",
        "print(\"Test F1 Score:\", f1_nb)\n",
        "\n",
        "# Calculate and plot the confusion matrix for the test data\n",
        "cm_nb = confusion_matrix(y_test, y_pred_nb)\n",
        "plt.figure(figsize=(10, 7))\n",
        "sns.heatmap(cm_nb, annot=True, fmt='d', cmap='Blues')\n",
        "plt.xlabel('Predicted')\n",
        "plt.ylabel('Actual')\n",
        "plt.show()"
      ]
    },
    {
      "cell_type": "markdown",
      "metadata": {
        "id": "AeA0m5DOnFKz"
      },
      "source": [
        "##**Base Decision Tree Classifier**"
      ]
    },
    {
      "cell_type": "code",
      "execution_count": null,
      "metadata": {
        "colab": {
          "base_uri": "https://localhost:8080/",
          "height": 758
        },
        "id": "puCVRwWnQoVV",
        "outputId": "de6fe0a9-8267-424f-ae93-31dd723a9c13"
      },
      "outputs": [
        {
          "output_type": "stream",
          "name": "stdout",
          "text": [
            "Validation Accuracy: 1.0\n",
            "Validation Precision: 1.0\n",
            "Validation Recall: 1.0\n",
            "Validation F1 Score: 1.0\n",
            "Test Accuracy: 1.0\n",
            "Test Precision: 1.0\n",
            "Test Recall: 1.0\n",
            "Test F1 Score: 1.0\n"
          ]
        },
        {
          "output_type": "display_data",
          "data": {
            "text/plain": [
              "<Figure size 1000x700 with 2 Axes>"
            ],
            "image/png": "[encoded data removed]"
          },
          "metadata": {}
        }
      ],
      "source": [
        "from sklearn.tree import DecisionTreeClassifier\n",
        "\n",
        "# Create a Decision Tree classifier\n",
        "dt = DecisionTreeClassifier()\n",
        "\n",
        "# Fit the classifier to the training data\n",
        "dt.fit(X_train, y_train)\n",
        "\n",
        "# Predict the labels for the validation data\n",
        "y_pred_val = dt.predict(X_val)\n",
        "\n",
        "# Calculate the accuracy, precision, recall, and F1 score on the validation data\n",
        "accuracy_val = accuracy_score(y_val, y_pred_val)\n",
        "precision_val = precision_score(y_val, y_pred_val, average='weighted')\n",
        "recall_val = recall_score(y_val, y_pred_val, average='weighted')\n",
        "f1_val = f1_score(y_val, y_pred_val, average='weighted')\n",
        "\n",
        "print(\"Validation Accuracy:\", accuracy_val)\n",
        "print(\"Validation Precision:\", precision_val)\n",
        "print(\"Validation Recall:\", recall_val)\n",
        "print(\"Validation F1 Score:\", f1_val)\n",
        "\n",
        "# Predict the labels for the test data\n",
        "y_pred_dt = dt.predict(X_test)\n",
        "\n",
        "# Calculate the accuracy, precision, recall, and F1 score on the test data\n",
        "accuracy_dt = accuracy_score(y_test, y_pred_dt)\n",
        "precision_dt = precision_score(y_test, y_pred_dt, average='weighted')\n",
        "recall_dt = recall_score(y_test, y_pred_dt, average='weighted')\n",
        "f1_dt = f1_score(y_test, y_pred_dt, average='weighted')\n",
        "\n",
        "print(\"Test Accuracy:\", accuracy_dt)\n",
        "print(\"Test Precision:\", precision_dt)\n",
        "print(\"Test Recall:\", recall_dt)\n",
        "print(\"Test F1 Score:\", f1_dt)\n",
        "\n",
        "# Calculate and plot the confusion matrix for the test data\n",
        "cm_dt = confusion_matrix(y_test, y_pred_dt)\n",
        "plt.figure(figsize=(10, 7))\n",
        "sns.heatmap(cm_dt, annot=True, fmt='d', cmap='Blues')\n",
        "plt.xlabel('Predicted')\n",
        "plt.ylabel('Actual')\n",
        "plt.show()"
      ]
    },
    {
      "cell_type": "markdown",
      "metadata": {
        "id": "Gl4XdeJc4WaS"
      },
      "source": [
        "##**Feature Scaling**"
      ]
    },
    {
      "cell_type": "markdown",
      "metadata": {
        "id": "qYmdKG6j4j3x"
      },
      "source": [
        "Scalers used :\n",
        "*   StandardScaler\n",
        "*   MinMaxScaler"
      ]
    },
    {
      "cell_type": "markdown",
      "metadata": {
        "id": "bzJUyGn52DEo"
      },
      "source": [
        "### KNN with Feature Scaling"
      ]
    },
    {
      "cell_type": "code",
      "execution_count": null,
      "metadata": {
        "colab": {
          "base_uri": "https://localhost:8080/",
          "height": 1000
        },
        "id": "fkCeEIsoteZT",
        "outputId": "8c038ada-ae93-4f94-8944-ab03f0292fd4"
      },
      "outputs": [
        {
          "output_type": "stream",
          "name": "stdout",
          "text": [
            "Metrics for StandardScaler\n",
            "Scaler Accuracy: 0.8983050847457628\n",
            "Scaler Precision: 0.9051654560129136\n",
            "Scaler Recall: 0.8983050847457628\n",
            "Scaler F1 Score: 0.8974754059499821\n"
          ]
        },
        {
          "output_type": "display_data",
          "data": {
            "text/plain": [
              "<Figure size 1000x700 with 2 Axes>"
            ],
            "image/png": "[encoded data removed]"
          },
          "metadata": {}
        },
        {
          "output_type": "stream",
          "name": "stdout",
          "text": [
            "Metrics for MinMaxScaler\n",
            "Scaler Accuracy: 0.864406779661017\n",
            "Scaler Precision: 0.8790238620747095\n",
            "Scaler Recall: 0.864406779661017\n",
            "Scaler F1 Score: 0.8622532402791625\n"
          ]
        },
        {
          "output_type": "display_data",
          "data": {
            "text/plain": [
              "<Figure size 1000x700 with 2 Axes>"
            ],
            "image/png": "[encoded data removed]"
          },
          "metadata": {}
        },
        {
          "output_type": "stream",
          "name": "stdout",
          "text": [
            "F1 Score for StandardScaler: 0.8974754059499821\n",
            "F1 Score for MinMaxScaler: 0.8622532402791625\n",
            "Best Scaler: StandardScaler\n",
            "Test Accuracy: 0.8135593220338984\n",
            "Test Precision: 0.8797156916347731\n",
            "Test Recall: 0.8135593220338984\n",
            "Test F1 Score: 0.8183608378843569\n"
          ]
        },
        {
          "output_type": "display_data",
          "data": {
            "text/plain": [
              "<Figure size 1000x700 with 2 Axes>"
            ],
            "image/png": "[encoded data removed]"
          },
          "metadata": {}
        }
      ],
      "source": [
        "from sklearn.preprocessing import StandardScaler, MinMaxScaler\n",
        "\n",
        "# Create dictionaries to store the F1 scores for each scaler\n",
        "f1_scores_scalers = {}\n",
        "\n",
        "# Define the scaling methods to compare\n",
        "scalers = {\n",
        "    'StandardScaler': StandardScaler(),\n",
        "    'MinMaxScaler': MinMaxScaler()\n",
        "}\n",
        "\n",
        "# Iterate over the scalers\n",
        "for scaler_name, scaler in scalers.items():\n",
        "    # Scale the training, validation, and testing data\n",
        "    X_train_scaled = scaler.fit_transform(X_train)\n",
        "    X_val_scaled = scaler.transform(X_val)\n",
        "    X_test_scaled = scaler.transform(X_test)\n",
        "\n",
        "    # Create a KNN classifier\n",
        "    knn = KNeighborsClassifier(n_neighbors=best_k)\n",
        "\n",
        "    # Fit the classifier to the scaled training data\n",
        "    knn.fit(X_train_scaled, y_train)\n",
        "\n",
        "    # Predict the labels for the validation data\n",
        "    y_pred_val = knn.predict(X_val_scaled)\n",
        "\n",
        "    # Calculate the accuracy, precision, recall, and F1 score on the validation data\n",
        "    accuracy_val = accuracy_score(y_val, y_pred_val)\n",
        "    precision_val = precision_score(y_val, y_pred_val, average='weighted')\n",
        "    recall_val = recall_score(y_val, y_pred_val, average='weighted')\n",
        "    f1_scores_scalers[scaler_name] = f1_score(y_val, y_pred_val, average='weighted')\n",
        "\n",
        "    print(\"Metrics for\", scaler_name)\n",
        "\n",
        "    print(\"Scaler Accuracy:\", accuracy_val)\n",
        "    print(\"Scaler Precision:\", precision_val)\n",
        "    print(\"Scaler Recall:\", recall_val)\n",
        "    print(\"Scaler F1 Score:\", f1_scores_scalers[scaler_name])\n",
        "\n",
        "    # Calculate and plot the confusion matrix for the test data\n",
        "    cm = confusion_matrix(y_val, y_pred_val)\n",
        "    plt.figure(figsize=(10, 7))\n",
        "    sns.heatmap(cm, annot=True, fmt='d', cmap='Blues')\n",
        "    plt.xlabel('Predicted')\n",
        "    plt.ylabel('Actual')\n",
        "    plt.show()\n",
        "\n",
        "# Print the F1 scores for each scaler\n",
        "for scaler_name, f1 in f1_scores_scalers.items():\n",
        "    print(f\"F1 Score for {scaler_name}: {f1}\")\n",
        "\n",
        "# Select the scaler with the best F1 score\n",
        "best_scaler = max(f1_scores_scalers, key=f1_scores_scalers.get)\n",
        "print(\"Best Scaler:\", best_scaler)\n",
        "\n",
        "# Scale the training and test data using the best scaler\n",
        "best_scaler_obj = scalers[best_scaler]\n",
        "X_train_scaled = best_scaler_obj.fit_transform(X_train)\n",
        "X_test_scaled = best_scaler_obj.transform(X_test)\n",
        "\n",
        "# Create a KNN classifier using the best scaler\n",
        "knn_scaled = KNeighborsClassifier(n_neighbors=best_k)\n",
        "\n",
        "# Fit the classifier to the scaled training data\n",
        "knn_scaled.fit(X_train_scaled, y_train)\n",
        "\n",
        "# Predict the labels for the test data\n",
        "y_pred_knn_scaled = knn_scaled.predict(X_test_scaled)\n",
        "\n",
        "# Calculate the accuracy, precision, recall, and F1 score on the test data\n",
        "accuracy_knn_scaled = accuracy_score(y_test, y_pred_knn_scaled)\n",
        "precision_knn_scaled = precision_score(y_test, y_pred_knn_scaled, average='weighted')\n",
        "recall_knn_scaled = recall_score(y_test, y_pred_knn_scaled, average='weighted')\n",
        "f1_knn_scaled = f1_score(y_test, y_pred_knn_scaled, average='weighted')\n",
        "\n",
        "print(\"Test Accuracy:\", accuracy_knn_scaled)\n",
        "print(\"Test Precision:\", precision_knn_scaled)\n",
        "print(\"Test Recall:\", recall_knn_scaled)\n",
        "print(\"Test F1 Score:\", f1_knn_scaled)\n",
        "\n",
        "# Calculate and plot the confusion matrix for the test data\n",
        "cm_knn_scaled = confusion_matrix(y_test, y_pred_knn_scaled)\n",
        "plt.figure(figsize=(10, 7))\n",
        "sns.heatmap(cm_knn_scaled, annot=True, fmt='d', cmap='Blues')\n",
        "plt.xlabel('Predicted')\n",
        "plt.ylabel('Actual')\n",
        "plt.show()"
      ]
    },
    {
      "cell_type": "markdown",
      "metadata": {
        "id": "Odoa4fcU3Rz0"
      },
      "source": [
        "### Naive Bayes with Feature Scaling"
      ]
    },
    {
      "cell_type": "code",
      "execution_count": null,
      "metadata": {
        "colab": {
          "base_uri": "https://localhost:8080/",
          "height": 1000
        },
        "id": "BsIeNg4740Af",
        "outputId": "e0ac5945-0351-4162-96be-fc49e41c4650"
      },
      "outputs": [
        {
          "output_type": "stream",
          "name": "stdout",
          "text": [
            "Metrics for StandardScaler\n",
            "Scaler Accuracy: 0.8813559322033898\n",
            "Scaler Precision: 0.8859251737873937\n",
            "Scaler Recall: 0.8813559322033898\n",
            "Scaler F1 Score: 0.8813559322033898\n"
          ]
        },
        {
          "output_type": "display_data",
          "data": {
            "text/plain": [
              "<Figure size 1000x700 with 2 Axes>"
            ],
            "image/png": "[encoded data removed]"
          },
          "metadata": {}
        },
        {
          "output_type": "stream",
          "name": "stdout",
          "text": [
            "Metrics for MinMaxScaler\n",
            "Scaler Accuracy: 0.8813559322033898\n",
            "Scaler Precision: 0.8859251737873937\n",
            "Scaler Recall: 0.8813559322033898\n",
            "Scaler F1 Score: 0.8813559322033898\n"
          ]
        },
        {
          "output_type": "display_data",
          "data": {
            "text/plain": [
              "<Figure size 1000x700 with 2 Axes>"
            ],
            "image/png": "[encoded data removed]"
          },
          "metadata": {}
        },
        {
          "output_type": "stream",
          "name": "stdout",
          "text": [
            "F1 Score for StandardScaler: 0.8813559322033898\n",
            "F1 Score for MinMaxScaler: 0.8813559322033898\n",
            "Best Scaler: StandardScaler\n",
            "Test Accuracy: 0.9661016949152542\n",
            "Test Precision: 0.9661016949152542\n",
            "Test Recall: 0.9661016949152542\n",
            "Test F1 Score: 0.9661016949152542\n"
          ]
        },
        {
          "output_type": "display_data",
          "data": {
            "text/plain": [
              "<Figure size 1000x700 with 2 Axes>"
            ],
            "image/png": "[encoded data removed]"
          },
          "metadata": {}
        }
      ],
      "source": [
        "from sklearn.preprocessing import StandardScaler, MinMaxScaler\n",
        "\n",
        "# Create dictionaries to store the F1 scores for each scaler\n",
        "f1_scores_scalers = {}\n",
        "\n",
        "# Define the scaling methods to compare\n",
        "scalers = {\n",
        "    'StandardScaler': StandardScaler(),\n",
        "    'MinMaxScaler': MinMaxScaler()\n",
        "}\n",
        "\n",
        "# Iterate over the scalers\n",
        "for scaler_name, scaler in scalers.items():\n",
        "    # Scale the training, validation, and testing data\n",
        "    X_train_scaled = scaler.fit_transform(X_train)\n",
        "    X_val_scaled = scaler.transform(X_val)\n",
        "    X_test_scaled = scaler.transform(X_test)\n",
        "\n",
        "    # Create a Naive Bayes classifier\n",
        "    nb = GaussianNB()\n",
        "\n",
        "    # Fit the classifier to the scaled training data\n",
        "    nb.fit(X_train_scaled, y_train)\n",
        "\n",
        "    # Predict the labels for the validation data\n",
        "    y_pred_val = nb.predict(X_val_scaled)\n",
        "\n",
        "    # Calculate the accuracy, precision, recall, and F1 score on the validation data\n",
        "    accuracy_val = accuracy_score(y_val, y_pred_val)\n",
        "    precision_val = precision_score(y_val, y_pred_val, average='weighted')\n",
        "    recall_val = recall_score(y_val, y_pred_val, average='weighted')\n",
        "    f1_scores_scalers[scaler_name] = f1_score(y_val, y_pred_val, average='weighted')\n",
        "\n",
        "    print(\"Metrics for\", scaler_name)\n",
        "\n",
        "    print(\"Scaler Accuracy:\", accuracy_val)\n",
        "    print(\"Scaler Precision:\", precision_val)\n",
        "    print(\"Scaler Recall:\", recall_val)\n",
        "    print(\"Scaler F1 Score:\", f1_scores_scalers[scaler_name])\n",
        "\n",
        "    # Calculate and plot the confusion matrix for the test data\n",
        "    cm = confusion_matrix(y_val, y_pred_val)\n",
        "    plt.figure(figsize=(10, 7))\n",
        "    sns.heatmap(cm, annot=True, fmt='d', cmap='Blues')\n",
        "    plt.xlabel('Predicted')\n",
        "    plt.ylabel('Actual')\n",
        "    plt.show()\n",
        "\n",
        "# Print the F1 scores for each scaler\n",
        "for scaler_name, f1 in f1_scores_scalers.items():\n",
        "    print(f\"F1 Score for {scaler_name}: {f1}\")\n",
        "\n",
        "# Select the scaler with the best F1 score\n",
        "best_scaler = max(f1_scores_scalers, key=f1_scores_scalers.get)\n",
        "print(\"Best Scaler:\", best_scaler)\n",
        "\n",
        "# Scale the training and test data using the best scaler\n",
        "best_scaler_obj = scalers[best_scaler]\n",
        "X_train_scaled = best_scaler_obj.fit_transform(X_train)\n",
        "X_test_scaled = best_scaler_obj.transform(X_test)\n",
        "\n",
        "# Create a KNN classifier using the best scaler\n",
        "nb_scaled = GaussianNB()\n",
        "\n",
        "# Fit the classifier to the scaled training data\n",
        "nb_scaled.fit(X_train_scaled, y_train)\n",
        "\n",
        "# Predict the labels for the test data\n",
        "y_pred_nb_scaled = nb_scaled.predict(X_test_scaled)\n",
        "\n",
        "# Calculate the accuracy, precision, recall, and F1 score on the test data\n",
        "accuracy_nb_scaled = accuracy_score(y_test, y_pred_nb_scaled)\n",
        "precision_nb_scaled = precision_score(y_test, y_pred_nb_scaled, average='weighted')\n",
        "recall_nb_scaled = recall_score(y_test, y_pred_nb_scaled, average='weighted')\n",
        "f1_nb_scaled = f1_score(y_test, y_pred_nb_scaled, average='weighted')\n",
        "\n",
        "print(\"Test Accuracy:\", accuracy_nb_scaled)\n",
        "print(\"Test Precision:\", precision_nb_scaled)\n",
        "print(\"Test Recall:\", recall_nb_scaled)\n",
        "print(\"Test F1 Score:\", f1_nb_scaled)\n",
        "\n",
        "# Calculate and plot the confusion matrix for the test data\n",
        "cm_nb_scaled = confusion_matrix(y_test, y_pred_nb_scaled)\n",
        "plt.figure(figsize=(10, 7))\n",
        "sns.heatmap(cm_nb_scaled, annot=True, fmt='d', cmap='Blues')\n",
        "plt.xlabel('Predicted')\n",
        "plt.ylabel('Actual')\n",
        "plt.show()"
      ]
    },
    {
      "cell_type": "markdown",
      "metadata": {
        "id": "Ne783jKn3cUa"
      },
      "source": [
        "### Decision Tree with Feature Scaling"
      ]
    },
    {
      "cell_type": "code",
      "execution_count": null,
      "metadata": {
        "colab": {
          "base_uri": "https://localhost:8080/",
          "height": 1000
        },
        "id": "4dZHwCjZ40v_",
        "outputId": "3f1efa54-4021-44db-a76e-4c3c6a9a307d"
      },
      "outputs": [
        {
          "output_type": "stream",
          "name": "stdout",
          "text": [
            "Metrics for StandardScaler\n",
            "Scaler Accuracy: 1.0\n",
            "Scaler Precision: 1.0\n",
            "Scaler Recall: 1.0\n",
            "Scaler F1 Score: 1.0\n"
          ]
        },
        {
          "output_type": "display_data",
          "data": {
            "text/plain": [
              "<Figure size 1000x700 with 2 Axes>"
            ],
            "image/png": "[encoded data removed]"
          },
          "metadata": {}
        },
        {
          "output_type": "stream",
          "name": "stdout",
          "text": [
            "Metrics for MinMaxScaler\n",
            "Scaler Accuracy: 1.0\n",
            "Scaler Precision: 1.0\n",
            "Scaler Recall: 1.0\n",
            "Scaler F1 Score: 1.0\n"
          ]
        },
        {
          "output_type": "display_data",
          "data": {
            "text/plain": [
              "<Figure size 1000x700 with 2 Axes>"
            ],
            "image/png": "[encoded data removed]"
          },
          "metadata": {}
        },
        {
          "output_type": "stream",
          "name": "stdout",
          "text": [
            "F1 Score for StandardScaler: 1.0\n",
            "F1 Score for MinMaxScaler: 1.0\n",
            "Best Scaler: StandardScaler\n",
            "Test Accuracy: 1.0\n",
            "Test Precision: 1.0\n",
            "Test Recall: 1.0\n",
            "Test F1 Score: 1.0\n"
          ]
        },
        {
          "output_type": "display_data",
          "data": {
            "text/plain": [
              "<Figure size 1000x700 with 2 Axes>"
            ],
            "image/png": "[encoded data removed]"
          },
          "metadata": {}
        }
      ],
      "source": [
        "# Iterate over the scalers\n",
        "for scaler_name, scaler in scalers.items():\n",
        "    # Scale the training, validation, and testing data\n",
        "    X_train_scaled = scaler.fit_transform(X_train)\n",
        "    X_val_scaled = scaler.transform(X_val)\n",
        "    X_test_scaled = scaler.transform(X_test)\n",
        "\n",
        "    # Create a Decision Tree classifier\n",
        "    dt = DecisionTreeClassifier()\n",
        "\n",
        "    # Fit the classifier to the scaled training data\n",
        "    dt.fit(X_train_scaled, y_train)\n",
        "\n",
        "    # Predict the labels for the validation data\n",
        "    y_pred_val = dt.predict(X_val_scaled)\n",
        "\n",
        "    # Calculate the accuracy, precision, recall, and F1 score on the validation data\n",
        "    accuracy_val = accuracy_score(y_val, y_pred_val)\n",
        "    precision_val = precision_score(y_val, y_pred_val, average='weighted')\n",
        "    recall_val = recall_score(y_val, y_pred_val, average='weighted')\n",
        "    f1_scores_scalers[scaler_name] = f1_score(y_val, y_pred_val, average='weighted')\n",
        "\n",
        "    print(\"Metrics for\", scaler_name)\n",
        "\n",
        "    print(\"Scaler Accuracy:\", accuracy_val)\n",
        "    print(\"Scaler Precision:\", precision_val)\n",
        "    print(\"Scaler Recall:\", recall_val)\n",
        "    print(\"Scaler F1 Score:\", f1_scores_scalers[scaler_name])\n",
        "\n",
        "    # Calculate and plot the confusion matrix for the test data\n",
        "    cm = confusion_matrix(y_val, y_pred_val)\n",
        "    plt.figure(figsize=(10, 7))\n",
        "    sns.heatmap(cm, annot=True, fmt='d', cmap='Blues')\n",
        "    plt.xlabel('Predicted')\n",
        "    plt.ylabel('Actual')\n",
        "    plt.show()\n",
        "\n",
        "# Print the F1 scores for each scaler\n",
        "for scaler_name, f1 in f1_scores_scalers.items():\n",
        "    print(f\"F1 Score for {scaler_name}: {f1}\")\n",
        "\n",
        "# Select the scaler with the best F1 score\n",
        "best_scaler = max(f1_scores_scalers, key=f1_scores_scalers.get)\n",
        "print(\"Best Scaler:\", best_scaler)\n",
        "\n",
        "# Scale the training and test data using the best scaler\n",
        "best_scaler_obj = scalers[best_scaler]\n",
        "X_train_scaled = best_scaler_obj.fit_transform(X_train)\n",
        "X_test_scaled = best_scaler_obj.transform(X_test)\n",
        "\n",
        "# Create a KNN classifier using the best scaler\n",
        "dt_scaled = DecisionTreeClassifier()\n",
        "\n",
        "# Fit the classifier to the scaled training data\n",
        "dt_scaled.fit(X_train_scaled, y_train)\n",
        "\n",
        "# Predict the labels for the test data\n",
        "y_pred_dt_scaled = dt_scaled.predict(X_test_scaled)\n",
        "\n",
        "# Calculate the accuracy, precision, recall, and F1 score on the test data\n",
        "accuracy_dt_scaled = accuracy_score(y_test, y_pred_dt_scaled)\n",
        "precision_dt_scaled = precision_score(y_test, y_pred_dt_scaled, average='weighted')\n",
        "recall_dt_scaled = recall_score(y_test, y_pred_dt_scaled, average='weighted')\n",
        "f1_dt_scaled = f1_score(y_test, y_pred_dt_scaled, average='weighted')\n",
        "\n",
        "print(\"Test Accuracy:\", accuracy_dt_scaled)\n",
        "print(\"Test Precision:\", precision_dt_scaled)\n",
        "print(\"Test Recall:\", recall_dt_scaled)\n",
        "print(\"Test F1 Score:\", f1_dt_scaled)\n",
        "\n",
        "# Calculate and plot the confusion matrix for the test data\n",
        "cm_dt_scaled = confusion_matrix(y_test, y_pred_dt_scaled)\n",
        "plt.figure(figsize=(10, 7))\n",
        "sns.heatmap(cm_dt_scaled, annot=True, fmt='d', cmap='Blues')\n",
        "plt.xlabel('Predicted')\n",
        "plt.ylabel('Actual')\n",
        "plt.show()"
      ]
    },
    {
      "cell_type": "markdown",
      "metadata": {
        "id": "gKvLY79O41PL"
      },
      "source": [
        "## **Feature Selection**"
      ]
    },
    {
      "cell_type": "markdown",
      "metadata": {
        "id": "Vd0D6dmb5KMv"
      },
      "source": [
        "### Scaled KNN with Feature Selection"
      ]
    },
    {
      "cell_type": "code",
      "execution_count": null,
      "metadata": {
        "colab": {
          "base_uri": "https://localhost:8080/",
          "height": 688
        },
        "id": "U9v7RLgh5ZsB",
        "outputId": "7d3e9be6-fc03-43ef-84e6-3173183228fc"
      },
      "outputs": [
        {
          "output_type": "stream",
          "name": "stdout",
          "text": [
            "Test Accuracy: 0.9491525423728814\n",
            "Test Precision: 0.9557848194546794\n",
            "Test Recall: 0.9491525423728814\n",
            "Test F1 Score: 0.9499093417422153\n"
          ]
        },
        {
          "output_type": "display_data",
          "data": {
            "text/plain": [
              "<Figure size 1000x700 with 2 Axes>"
            ],
            "image/png": "[encoded data removed]"
          },
          "metadata": {}
        }
      ],
      "source": [
        "from sklearn.feature_selection import SelectKBest, mutual_info_classif\n",
        "\n",
        "# Apply SelectKBest for feature selection\n",
        "k_best = SelectKBest(score_func=mutual_info_classif, k=5)  # Select 5 best features\n",
        "X_train_kbest = k_best.fit_transform(X_train_scaled, y_train)\n",
        "\n",
        "# Train the classifier using the transformed training data\n",
        "knn_scaled.fit(X_train_kbest, y_train)\n",
        "\n",
        "# Apply the same feature selection on the testing data\n",
        "X_test_kbest = k_best.transform(X_test_scaled)\n",
        "\n",
        "# Predict the labels of the transformed testing data\n",
        "y_pred_knn_fs = knn_scaled.predict(X_test_kbest)\n",
        "\n",
        "\n",
        "# Calculate the accuracy, precision, recall, and F1 score on the test data\n",
        "accuracy_knn_fs = accuracy_score(y_test, y_pred_knn_fs)\n",
        "precision_knn_fs = precision_score(y_test, y_pred_knn_fs, average='weighted')\n",
        "recall_knn_fs = recall_score(y_test, y_pred_knn_fs, average='weighted')\n",
        "f1_knn_fs = f1_score(y_test, y_pred_knn_fs, average='weighted')\n",
        "\n",
        "print(\"Test Accuracy:\", accuracy_knn_fs)\n",
        "print(\"Test Precision:\", precision_knn_fs)\n",
        "print(\"Test Recall:\", recall_knn_fs)\n",
        "print(\"Test F1 Score:\", f1_knn_fs)\n",
        "\n",
        "# Calculate and plot the confusion matrix for the test data\n",
        "cm_knn_fs = confusion_matrix(y_test, y_pred_knn_fs)\n",
        "plt.figure(figsize=(10, 7))\n",
        "sns.heatmap(cm_knn_fs, annot=True, fmt='d', cmap='Blues')\n",
        "plt.xlabel('Predicted')\n",
        "plt.ylabel('Actual')\n",
        "plt.show()"
      ]
    },
    {
      "cell_type": "markdown",
      "metadata": {
        "id": "ko0Gdhhl5aKS"
      },
      "source": [
        "### Scaled Naive Bayes with Feature Selection"
      ]
    },
    {
      "cell_type": "code",
      "execution_count": null,
      "metadata": {
        "colab": {
          "base_uri": "https://localhost:8080/",
          "height": 688
        },
        "id": "bdEVU7aI5inO",
        "outputId": "268c3910-09d4-4944-c89a-23f915e6e539"
      },
      "outputs": [
        {
          "output_type": "stream",
          "name": "stdout",
          "text": [
            "Test Accuracy: 0.9830508474576272\n",
            "Test Precision: 0.9838579499596449\n",
            "Test Recall: 0.9830508474576272\n",
            "Test F1 Score: 0.9831474850077578\n"
          ]
        },
        {
          "output_type": "display_data",
          "data": {
            "text/plain": [
              "<Figure size 1000x700 with 2 Axes>"
            ],
            "image/png": "[encoded data removed]"
          },
          "metadata": {}
        }
      ],
      "source": [
        "# Train the classifier using the transformed training data\n",
        "nb_scaled.fit(X_train_kbest, y_train)\n",
        "\n",
        "# Predict the labels of the transformed testing data\n",
        "y_pred_nb_fs = nb_scaled.predict(X_test_kbest)\n",
        "\n",
        "# Calculate the accuracy, precision, recall, and F1 score on the test data\n",
        "accuracy_nb_fs = accuracy_score(y_test, y_pred_nb_fs)\n",
        "precision_nb_fs = precision_score(y_test, y_pred_nb_fs, average='weighted')\n",
        "recall_nb_fs = recall_score(y_test, y_pred_nb_fs, average='weighted')\n",
        "f1_nb_fs = f1_score(y_test, y_pred_nb_fs, average='weighted')\n",
        "\n",
        "print(\"Test Accuracy:\", accuracy_nb_fs)\n",
        "print(\"Test Precision:\", precision_nb_fs)\n",
        "print(\"Test Recall:\", recall_nb_fs)\n",
        "print(\"Test F1 Score:\", f1_nb_fs)\n",
        "\n",
        "# Calculate and plot the confusion matrix for the test data\n",
        "cm_nb_fs = confusion_matrix(y_test, y_pred_nb_fs)\n",
        "plt.figure(figsize=(10, 7))\n",
        "sns.heatmap(cm_nb_fs, annot=True, fmt='d', cmap='Blues')\n",
        "plt.xlabel('Predicted')\n",
        "plt.ylabel('Actual')\n",
        "plt.show()"
      ]
    },
    {
      "cell_type": "markdown",
      "metadata": {
        "id": "eCu6Jofm5jb2"
      },
      "source": [
        "### Scaled Decision Tree with Feature Selection"
      ]
    },
    {
      "cell_type": "code",
      "execution_count": null,
      "metadata": {
        "colab": {
          "base_uri": "https://localhost:8080/",
          "height": 688
        },
        "id": "0BemZYVv5qVB",
        "outputId": "82caad04-a3fa-4bc7-e597-1471234440d2"
      },
      "outputs": [
        {
          "output_type": "stream",
          "name": "stdout",
          "text": [
            "Test Accuracy: 1.0\n",
            "Test Precision: 1.0\n",
            "Test Recall: 1.0\n",
            "Test F1 Score: 1.0\n"
          ]
        },
        {
          "output_type": "display_data",
          "data": {
            "text/plain": [
              "<Figure size 1000x700 with 2 Axes>"
            ],
            "image/png": "[encoded data removed]"
          },
          "metadata": {}
        }
      ],
      "source": [
        "# Train the classifier using the transformed training data\n",
        "dt_scaled.fit(X_train_kbest, y_train)\n",
        "\n",
        "# Predict the labels of the transformed testing data\n",
        "y_pred_dt_fs = dt_scaled.predict(X_test_kbest)\n",
        "\n",
        "# Calculate the accuracy, precision, recall, and F1 score on the test data\n",
        "accuracy_dt_fs = accuracy_score(y_test, y_pred_dt_fs)\n",
        "precision_dt_fs = precision_score(y_test, y_pred_dt_fs, average='weighted')\n",
        "recall_dt_fs = recall_score(y_test, y_pred_dt_fs, average='weighted')\n",
        "f1_dt_fs = f1_score(y_test, y_pred_dt_fs, average='weighted')\n",
        "\n",
        "print(\"Test Accuracy:\", accuracy_dt_fs)\n",
        "print(\"Test Precision:\", precision_dt_fs)\n",
        "print(\"Test Recall:\", recall_dt_fs)\n",
        "print(\"Test F1 Score:\", f1_dt_fs)\n",
        "\n",
        "# Calculate and plot the confusion matrix for the test data\n",
        "cm_dt_fs = confusion_matrix(y_test, y_pred_dt_fs)\n",
        "plt.figure(figsize=(10, 7))\n",
        "sns.heatmap(cm_dt_fs, annot=True, fmt='d', cmap='Blues')\n",
        "plt.xlabel('Predicted')\n",
        "plt.ylabel('Actual')\n",
        "plt.show()"
      ]
    },
    {
      "cell_type": "markdown",
      "metadata": {
        "id": "2aDwHAud5ztv"
      },
      "source": [
        "##**Dimensional Reduction Using PCA**"
      ]
    },
    {
      "cell_type": "markdown",
      "metadata": {
        "id": "mRfBZpYy5_3m"
      },
      "source": [
        "### Scaled KNN with PCA"
      ]
    },
    {
      "cell_type": "code",
      "execution_count": null,
      "metadata": {
        "id": "wztqFqUe6LVj",
        "outputId": "9f2a1e5c-4e1e-4a59-b00d-4d1292aec1e6",
        "colab": {
          "base_uri": "https://localhost:8080/",
          "height": 688
        }
      },
      "outputs": [
        {
          "output_type": "stream",
          "name": "stdout",
          "text": [
            "Test Accuracy: 0.9491525423728814\n",
            "Test Precision: 0.9503207170468544\n",
            "Test Recall: 0.9491525423728814\n",
            "Test F1 Score: 0.9494424550232736\n"
          ]
        },
        {
          "output_type": "display_data",
          "data": {
            "text/plain": [
              "<Figure size 1000x700 with 2 Axes>"
            ],
            "image/png": "[encoded data removed]"
          },
          "metadata": {}
        }
      ],
      "source": [
        "from sklearn.decomposition import PCA\n",
        "\n",
        "# Apply PCA\n",
        "pca = PCA(n_components=5, iterated_power=1)\n",
        "X_train_pca = pca.fit_transform(X_train_scaled, y_train)\n",
        "\n",
        "# Train the classifier using the transformed training data\n",
        "knn_scaled.fit(X_train_pca, y_train)\n",
        "\n",
        "# Apply the same PCA on the testing data\n",
        "X_test_pca = pca.transform(X_test_scaled)\n",
        "\n",
        "# Predict the labels of the transformed testing data\n",
        "y_pred_knn_pca = knn_scaled.predict(X_test_pca)\n",
        "\n",
        "\n",
        "# Calculate the accuracy, precision, recall, and F1 score on the test data\n",
        "accuracy_knn_pca = accuracy_score(y_test, y_pred_knn_pca)\n",
        "precision_knn_pca = precision_score(y_test, y_pred_knn_pca, average='weighted')\n",
        "recall_knn_pca = recall_score(y_test, y_pred_knn_pca, average='weighted')\n",
        "f1_knn_pca = f1_score(y_test, y_pred_knn_pca, average='weighted')\n",
        "\n",
        "print(\"Test Accuracy:\", accuracy_knn_pca)\n",
        "print(\"Test Precision:\", precision_knn_pca)\n",
        "print(\"Test Recall:\", recall_knn_pca)\n",
        "print(\"Test F1 Score:\", f1_knn_pca)\n",
        "\n",
        "# Calculate and plot the confusion matrix for the test data\n",
        "cm_knn_pca = confusion_matrix(y_test, y_pred_knn_pca)\n",
        "plt.figure(figsize=(10, 7))\n",
        "sns.heatmap(cm_knn_pca, annot=True, fmt='d', cmap='Blues')\n",
        "plt.xlabel('Predicted')\n",
        "plt.ylabel('Actual')\n",
        "plt.show()"
      ]
    },
    {
      "cell_type": "markdown",
      "metadata": {
        "id": "pAfEt4Dk6L-r"
      },
      "source": [
        "### Scaled Naive Bayes with PCA"
      ]
    },
    {
      "cell_type": "code",
      "execution_count": null,
      "metadata": {
        "id": "DI6T2aST6R4c",
        "outputId": "489d204c-bd79-4fef-ea79-b399bcd50cf9",
        "colab": {
          "base_uri": "https://localhost:8080/",
          "height": 688
        }
      },
      "outputs": [
        {
          "output_type": "stream",
          "name": "stdout",
          "text": [
            "Test Accuracy: 0.9830508474576272\n",
            "Test Precision: 0.9838579499596449\n",
            "Test Recall: 0.9830508474576272\n",
            "Test F1 Score: 0.9831474850077578\n"
          ]
        },
        {
          "output_type": "display_data",
          "data": {
            "text/plain": [
              "<Figure size 1000x700 with 2 Axes>"
            ],
            "image/png": "[encoded data removed]"
          },
          "metadata": {}
        }
      ],
      "source": [
        "# Train the classifier using the transformed training data\n",
        "nb_scaled.fit(X_train_kbest, y_train)\n",
        "\n",
        "# Predict the labels of the transformed testing data\n",
        "y_pred_nb_pca = nb_scaled.predict(X_test_kbest)\n",
        "\n",
        "# Calculate the accuracy, precision, recall, and F1 score on the test data\n",
        "accuracy_nb_pca = accuracy_score(y_test, y_pred_nb_pca)\n",
        "precision_nb_pca = precision_score(y_test, y_pred_nb_pca, average='weighted')\n",
        "recall_nb_pca = recall_score(y_test, y_pred_nb_pca, average='weighted')\n",
        "f1_nb_pca = f1_score(y_test, y_pred_nb_pca, average='weighted')\n",
        "\n",
        "print(\"Test Accuracy:\", accuracy_nb_pca)\n",
        "print(\"Test Precision:\", precision_nb_pca)\n",
        "print(\"Test Recall:\", recall_nb_pca)\n",
        "print(\"Test F1 Score:\", f1_nb_pca)\n",
        "\n",
        "# Calculate and plot the confusion matrix for the test data\n",
        "cm_nb_pca = confusion_matrix(y_test, y_pred_nb_pca)\n",
        "plt.figure(figsize=(10, 7))\n",
        "sns.heatmap(cm_nb_pca, annot=True, fmt='d', cmap='Blues')\n",
        "plt.xlabel('Predicted')\n",
        "plt.ylabel('Actual')\n",
        "plt.show()"
      ]
    },
    {
      "cell_type": "markdown",
      "metadata": {
        "id": "K0HU6qX56SNd"
      },
      "source": [
        "### Scaled Decision Tree with PCA"
      ]
    },
    {
      "cell_type": "code",
      "execution_count": null,
      "metadata": {
        "id": "HKBrSLLX6YSy",
        "outputId": "3e6b81aa-e824-4b3d-a9b6-406a25648605",
        "colab": {
          "base_uri": "https://localhost:8080/",
          "height": 688
        }
      },
      "outputs": [
        {
          "output_type": "stream",
          "name": "stdout",
          "text": [
            "Test Accuracy: 1.0\n",
            "Test Precision: 1.0\n",
            "Test Recall: 1.0\n",
            "Test F1 Score: 1.0\n"
          ]
        },
        {
          "output_type": "display_data",
          "data": {
            "text/plain": [
              "<Figure size 1000x700 with 2 Axes>"
            ],
            "image/png": "[encoded data removed]"
          },
          "metadata": {}
        }
      ],
      "source": [
        "# Train the classifier using the transformed training data\n",
        "dt_scaled.fit(X_train_kbest, y_train)\n",
        "\n",
        "# Predict the labels of the transformed testing data\n",
        "y_pred_dt_pca = dt_scaled.predict(X_test_kbest)\n",
        "\n",
        "# Calculate the accuracy, precision, recall, and F1 score on the test data\n",
        "accuracy_dt_pca = accuracy_score(y_test, y_pred_dt_pca)\n",
        "precision_dt_pca = precision_score(y_test, y_pred_dt_pca, average='weighted')\n",
        "recall_dt_pca = recall_score(y_test, y_pred_dt_pca, average='weighted')\n",
        "f1_dt_pca = f1_score(y_test, y_pred_dt_pca, average='weighted')\n",
        "\n",
        "print(\"Test Accuracy:\", accuracy_dt_pca)\n",
        "print(\"Test Precision:\", precision_dt_pca)\n",
        "print(\"Test Recall:\", recall_dt_pca)\n",
        "print(\"Test F1 Score:\", f1_dt_pca)\n",
        "\n",
        "# Calculate and plot the confusion matrix for the test data\n",
        "cm_dt_pca = confusion_matrix(y_test, y_pred_dt_pca)\n",
        "plt.figure(figsize=(10, 7))\n",
        "sns.heatmap(cm_dt_pca, annot=True, fmt='d', cmap='Blues')\n",
        "plt.xlabel('Predicted')\n",
        "plt.ylabel('Actual')\n",
        "plt.show()"
      ]
    }
  ],
  "metadata": {
    "colab": {
      "provenance": []
    },
    "kernelspec": {
      "display_name": "Python 3",
      "name": "python3"
    },
    "language_info": {
      "name": "python"
    }
  },
  "nbformat": 4,
  "nbformat_minor": 0
}